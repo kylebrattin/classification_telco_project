{
 "cells": [
  {
   "cell_type": "markdown",
   "id": "14049573-3d53-4aa5-8afb-492fbd64f00a",
   "metadata": {},
   "source": [
    "## What are my drivers for this project?\n",
    "## What are some possible reasons for churning.\n",
    "- Does online backup cause a churn\n",
    "- Does internet service type cause a churn\n",
    "- Does device protection cause a churn or matter\n",
    "- Does having online secuirty  cause a churn\n",
    "\n",
    "## Lets aquire the data and take a look at the table"
   ]
  },
  {
   "cell_type": "code",
   "execution_count": 1,
   "id": "11780349-c942-4e4c-8199-20eac9a8d514",
   "metadata": {
    "tags": []
   },
   "outputs": [],
   "source": [
    "import pandas as pd\n",
    "import numpy as np\n",
    "import seaborn as sns\n",
    "import matplotlib.pyplot as plt\n",
    "from scipy import stats\n",
    "\n",
    "from sklearn.model_selection import train_test_split\n",
    "from sklearn.impute import SimpleImputer\n",
    "from sklearn.tree import DecisionTreeClassifier\n",
    "from sklearn.metrics import classification_report, confusion_matrix\n",
    "from sklearn.ensemble import RandomForestClassifier\n",
    "from sklearn.neighbors import KNeighborsClassifier\n",
    "from sklearn.linear_model import LogisticRegression\n",
    "from sklearn.metrics import confusion_matrix, ConfusionMatrixDisplay\n",
    "\n",
    "import warnings\n",
    "warnings.filterwarnings('ignore')\n",
    "import env\n",
    "import acquire\n",
    "import prepare\n",
    "import explore"
   ]
  },
  {
   "cell_type": "code",
   "execution_count": 2,
   "id": "fe2885c2-a965-4a7d-9a5d-8dd7d84eda8b",
   "metadata": {
    "tags": []
   },
   "outputs": [
    {
     "data": {
      "text/html": [
       "<div>\n",
       "<style scoped>\n",
       "    .dataframe tbody tr th:only-of-type {\n",
       "        vertical-align: middle;\n",
       "    }\n",
       "\n",
       "    .dataframe tbody tr th {\n",
       "        vertical-align: top;\n",
       "    }\n",
       "\n",
       "    .dataframe thead th {\n",
       "        text-align: right;\n",
       "    }\n",
       "</style>\n",
       "<table border=\"1\" class=\"dataframe\">\n",
       "  <thead>\n",
       "    <tr style=\"text-align: right;\">\n",
       "      <th></th>\n",
       "      <th>payment_type_id</th>\n",
       "      <th>internet_service_type_id</th>\n",
       "      <th>contract_type_id</th>\n",
       "      <th>customer_id</th>\n",
       "      <th>gender</th>\n",
       "      <th>senior_citizen</th>\n",
       "      <th>partner</th>\n",
       "      <th>dependents</th>\n",
       "      <th>tenure</th>\n",
       "      <th>phone_service</th>\n",
       "      <th>...</th>\n",
       "      <th>tech_support</th>\n",
       "      <th>streaming_tv</th>\n",
       "      <th>streaming_movies</th>\n",
       "      <th>paperless_billing</th>\n",
       "      <th>monthly_charges</th>\n",
       "      <th>total_charges</th>\n",
       "      <th>churn</th>\n",
       "      <th>contract_type</th>\n",
       "      <th>internet_service_type</th>\n",
       "      <th>payment_type</th>\n",
       "    </tr>\n",
       "  </thead>\n",
       "  <tbody>\n",
       "    <tr>\n",
       "      <th>0</th>\n",
       "      <td>2</td>\n",
       "      <td>1</td>\n",
       "      <td>2</td>\n",
       "      <td>0002-ORFBO</td>\n",
       "      <td>Female</td>\n",
       "      <td>0</td>\n",
       "      <td>Yes</td>\n",
       "      <td>Yes</td>\n",
       "      <td>9</td>\n",
       "      <td>Yes</td>\n",
       "      <td>...</td>\n",
       "      <td>Yes</td>\n",
       "      <td>Yes</td>\n",
       "      <td>No</td>\n",
       "      <td>Yes</td>\n",
       "      <td>65.6</td>\n",
       "      <td>593.3</td>\n",
       "      <td>No</td>\n",
       "      <td>One year</td>\n",
       "      <td>DSL</td>\n",
       "      <td>Mailed check</td>\n",
       "    </tr>\n",
       "    <tr>\n",
       "      <th>1</th>\n",
       "      <td>2</td>\n",
       "      <td>1</td>\n",
       "      <td>1</td>\n",
       "      <td>0003-MKNFE</td>\n",
       "      <td>Male</td>\n",
       "      <td>0</td>\n",
       "      <td>No</td>\n",
       "      <td>No</td>\n",
       "      <td>9</td>\n",
       "      <td>Yes</td>\n",
       "      <td>...</td>\n",
       "      <td>No</td>\n",
       "      <td>No</td>\n",
       "      <td>Yes</td>\n",
       "      <td>No</td>\n",
       "      <td>59.9</td>\n",
       "      <td>542.4</td>\n",
       "      <td>No</td>\n",
       "      <td>Month-to-month</td>\n",
       "      <td>DSL</td>\n",
       "      <td>Mailed check</td>\n",
       "    </tr>\n",
       "    <tr>\n",
       "      <th>2</th>\n",
       "      <td>1</td>\n",
       "      <td>2</td>\n",
       "      <td>1</td>\n",
       "      <td>0004-TLHLJ</td>\n",
       "      <td>Male</td>\n",
       "      <td>0</td>\n",
       "      <td>No</td>\n",
       "      <td>No</td>\n",
       "      <td>4</td>\n",
       "      <td>Yes</td>\n",
       "      <td>...</td>\n",
       "      <td>No</td>\n",
       "      <td>No</td>\n",
       "      <td>No</td>\n",
       "      <td>Yes</td>\n",
       "      <td>73.9</td>\n",
       "      <td>280.85</td>\n",
       "      <td>Yes</td>\n",
       "      <td>Month-to-month</td>\n",
       "      <td>Fiber optic</td>\n",
       "      <td>Electronic check</td>\n",
       "    </tr>\n",
       "    <tr>\n",
       "      <th>3</th>\n",
       "      <td>1</td>\n",
       "      <td>2</td>\n",
       "      <td>1</td>\n",
       "      <td>0011-IGKFF</td>\n",
       "      <td>Male</td>\n",
       "      <td>1</td>\n",
       "      <td>Yes</td>\n",
       "      <td>No</td>\n",
       "      <td>13</td>\n",
       "      <td>Yes</td>\n",
       "      <td>...</td>\n",
       "      <td>No</td>\n",
       "      <td>Yes</td>\n",
       "      <td>Yes</td>\n",
       "      <td>Yes</td>\n",
       "      <td>98.0</td>\n",
       "      <td>1237.85</td>\n",
       "      <td>Yes</td>\n",
       "      <td>Month-to-month</td>\n",
       "      <td>Fiber optic</td>\n",
       "      <td>Electronic check</td>\n",
       "    </tr>\n",
       "    <tr>\n",
       "      <th>4</th>\n",
       "      <td>2</td>\n",
       "      <td>2</td>\n",
       "      <td>1</td>\n",
       "      <td>0013-EXCHZ</td>\n",
       "      <td>Female</td>\n",
       "      <td>1</td>\n",
       "      <td>Yes</td>\n",
       "      <td>No</td>\n",
       "      <td>3</td>\n",
       "      <td>Yes</td>\n",
       "      <td>...</td>\n",
       "      <td>Yes</td>\n",
       "      <td>Yes</td>\n",
       "      <td>No</td>\n",
       "      <td>Yes</td>\n",
       "      <td>83.9</td>\n",
       "      <td>267.4</td>\n",
       "      <td>Yes</td>\n",
       "      <td>Month-to-month</td>\n",
       "      <td>Fiber optic</td>\n",
       "      <td>Mailed check</td>\n",
       "    </tr>\n",
       "  </tbody>\n",
       "</table>\n",
       "<p>5 rows × 24 columns</p>\n",
       "</div>"
      ],
      "text/plain": [
       "   payment_type_id  internet_service_type_id  contract_type_id customer_id  \\\n",
       "0                2                         1                 2  0002-ORFBO   \n",
       "1                2                         1                 1  0003-MKNFE   \n",
       "2                1                         2                 1  0004-TLHLJ   \n",
       "3                1                         2                 1  0011-IGKFF   \n",
       "4                2                         2                 1  0013-EXCHZ   \n",
       "\n",
       "   gender  senior_citizen partner dependents  tenure phone_service  ...  \\\n",
       "0  Female               0     Yes        Yes       9           Yes  ...   \n",
       "1    Male               0      No         No       9           Yes  ...   \n",
       "2    Male               0      No         No       4           Yes  ...   \n",
       "3    Male               1     Yes         No      13           Yes  ...   \n",
       "4  Female               1     Yes         No       3           Yes  ...   \n",
       "\n",
       "  tech_support streaming_tv streaming_movies paperless_billing  \\\n",
       "0          Yes          Yes               No               Yes   \n",
       "1           No           No              Yes                No   \n",
       "2           No           No               No               Yes   \n",
       "3           No          Yes              Yes               Yes   \n",
       "4          Yes          Yes               No               Yes   \n",
       "\n",
       "  monthly_charges total_charges churn   contract_type  internet_service_type  \\\n",
       "0            65.6         593.3    No        One year                    DSL   \n",
       "1            59.9         542.4    No  Month-to-month                    DSL   \n",
       "2            73.9        280.85   Yes  Month-to-month            Fiber optic   \n",
       "3            98.0       1237.85   Yes  Month-to-month            Fiber optic   \n",
       "4            83.9         267.4   Yes  Month-to-month            Fiber optic   \n",
       "\n",
       "       payment_type  \n",
       "0      Mailed check  \n",
       "1      Mailed check  \n",
       "2  Electronic check  \n",
       "3  Electronic check  \n",
       "4      Mailed check  \n",
       "\n",
       "[5 rows x 24 columns]"
      ]
     },
     "execution_count": 2,
     "metadata": {},
     "output_type": "execute_result"
    }
   ],
   "source": [
    "#acquiring telco data using the acquire \n",
    "df = acquire.get_telco_data()\n",
    "df.head()"
   ]
  },
  {
   "cell_type": "code",
   "execution_count": 3,
   "id": "0d020c9c-eb3b-4460-871e-ea3dcff8c054",
   "metadata": {
    "tags": []
   },
   "outputs": [
    {
     "name": "stdout",
     "output_type": "stream",
     "text": [
      "<class 'pandas.core.frame.DataFrame'>\n",
      "Int64Index: 7043 entries, 0 to 7042\n",
      "Data columns (total 24 columns):\n",
      " #   Column                    Non-Null Count  Dtype  \n",
      "---  ------                    --------------  -----  \n",
      " 0   payment_type_id           7043 non-null   int64  \n",
      " 1   internet_service_type_id  7043 non-null   int64  \n",
      " 2   contract_type_id          7043 non-null   int64  \n",
      " 3   customer_id               7043 non-null   object \n",
      " 4   gender                    7043 non-null   object \n",
      " 5   senior_citizen            7043 non-null   int64  \n",
      " 6   partner                   7043 non-null   object \n",
      " 7   dependents                7043 non-null   object \n",
      " 8   tenure                    7043 non-null   int64  \n",
      " 9   phone_service             7043 non-null   object \n",
      " 10  multiple_lines            7043 non-null   object \n",
      " 11  online_security           7043 non-null   object \n",
      " 12  online_backup             7043 non-null   object \n",
      " 13  device_protection         7043 non-null   object \n",
      " 14  tech_support              7043 non-null   object \n",
      " 15  streaming_tv              7043 non-null   object \n",
      " 16  streaming_movies          7043 non-null   object \n",
      " 17  paperless_billing         7043 non-null   object \n",
      " 18  monthly_charges           7043 non-null   float64\n",
      " 19  total_charges             7043 non-null   object \n",
      " 20  churn                     7043 non-null   object \n",
      " 21  contract_type             7043 non-null   object \n",
      " 22  internet_service_type     7043 non-null   object \n",
      " 23  payment_type              7043 non-null   object \n",
      "dtypes: float64(1), int64(5), object(18)\n",
      "memory usage: 1.3+ MB\n"
     ]
    }
   ],
   "source": [
    "#just looking at all the info for the columns and there dtypes\n",
    "df.info()\n"
   ]
  },
  {
   "cell_type": "code",
   "execution_count": 4,
   "id": "88ba7b0f-f087-4f69-ae78-aade6afa6d13",
   "metadata": {
    "tags": []
   },
   "outputs": [],
   "source": [
    "#here we are preparing our data by "
   ]
  },
  {
   "cell_type": "code",
   "execution_count": 5,
   "id": "c4700b3c-0bf1-47f3-a3bc-cecd8afe6291",
   "metadata": {
    "tags": []
   },
   "outputs": [],
   "source": [
    "# determined that customer id has no relevance it maybe an index \n",
    "df.drop(columns='customer_id', inplace=True)\n"
   ]
  },
  {
   "cell_type": "code",
   "execution_count": 6,
   "id": "6367cfeb-a38c-4a68-8343-7123d5f49ec9",
   "metadata": {
    "tags": []
   },
   "outputs": [
    {
     "data": {
      "text/html": [
       "<div>\n",
       "<style scoped>\n",
       "    .dataframe tbody tr th:only-of-type {\n",
       "        vertical-align: middle;\n",
       "    }\n",
       "\n",
       "    .dataframe tbody tr th {\n",
       "        vertical-align: top;\n",
       "    }\n",
       "\n",
       "    .dataframe thead th {\n",
       "        text-align: right;\n",
       "    }\n",
       "</style>\n",
       "<table border=\"1\" class=\"dataframe\">\n",
       "  <thead>\n",
       "    <tr style=\"text-align: right;\">\n",
       "      <th></th>\n",
       "      <th>payment_type_id</th>\n",
       "      <th>internet_service_type_id</th>\n",
       "      <th>contract_type_id</th>\n",
       "      <th>gender</th>\n",
       "      <th>senior_citizen</th>\n",
       "      <th>partner</th>\n",
       "      <th>dependents</th>\n",
       "      <th>tenure</th>\n",
       "      <th>phone_service</th>\n",
       "      <th>multiple_lines</th>\n",
       "      <th>...</th>\n",
       "      <th>tech_support</th>\n",
       "      <th>streaming_tv</th>\n",
       "      <th>streaming_movies</th>\n",
       "      <th>paperless_billing</th>\n",
       "      <th>monthly_charges</th>\n",
       "      <th>total_charges</th>\n",
       "      <th>churn</th>\n",
       "      <th>contract_type</th>\n",
       "      <th>internet_service_type</th>\n",
       "      <th>payment_type</th>\n",
       "    </tr>\n",
       "  </thead>\n",
       "  <tbody>\n",
       "    <tr>\n",
       "      <th>0</th>\n",
       "      <td>2</td>\n",
       "      <td>1</td>\n",
       "      <td>2</td>\n",
       "      <td>Female</td>\n",
       "      <td>0</td>\n",
       "      <td>Yes</td>\n",
       "      <td>Yes</td>\n",
       "      <td>9</td>\n",
       "      <td>Yes</td>\n",
       "      <td>No</td>\n",
       "      <td>...</td>\n",
       "      <td>Yes</td>\n",
       "      <td>Yes</td>\n",
       "      <td>No</td>\n",
       "      <td>Yes</td>\n",
       "      <td>65.6</td>\n",
       "      <td>593.3</td>\n",
       "      <td>No</td>\n",
       "      <td>One year</td>\n",
       "      <td>DSL</td>\n",
       "      <td>Mailed check</td>\n",
       "    </tr>\n",
       "    <tr>\n",
       "      <th>1</th>\n",
       "      <td>2</td>\n",
       "      <td>1</td>\n",
       "      <td>1</td>\n",
       "      <td>Male</td>\n",
       "      <td>0</td>\n",
       "      <td>No</td>\n",
       "      <td>No</td>\n",
       "      <td>9</td>\n",
       "      <td>Yes</td>\n",
       "      <td>Yes</td>\n",
       "      <td>...</td>\n",
       "      <td>No</td>\n",
       "      <td>No</td>\n",
       "      <td>Yes</td>\n",
       "      <td>No</td>\n",
       "      <td>59.9</td>\n",
       "      <td>542.4</td>\n",
       "      <td>No</td>\n",
       "      <td>Month-to-month</td>\n",
       "      <td>DSL</td>\n",
       "      <td>Mailed check</td>\n",
       "    </tr>\n",
       "    <tr>\n",
       "      <th>2</th>\n",
       "      <td>1</td>\n",
       "      <td>2</td>\n",
       "      <td>1</td>\n",
       "      <td>Male</td>\n",
       "      <td>0</td>\n",
       "      <td>No</td>\n",
       "      <td>No</td>\n",
       "      <td>4</td>\n",
       "      <td>Yes</td>\n",
       "      <td>No</td>\n",
       "      <td>...</td>\n",
       "      <td>No</td>\n",
       "      <td>No</td>\n",
       "      <td>No</td>\n",
       "      <td>Yes</td>\n",
       "      <td>73.9</td>\n",
       "      <td>280.85</td>\n",
       "      <td>Yes</td>\n",
       "      <td>Month-to-month</td>\n",
       "      <td>Fiber optic</td>\n",
       "      <td>Electronic check</td>\n",
       "    </tr>\n",
       "    <tr>\n",
       "      <th>3</th>\n",
       "      <td>1</td>\n",
       "      <td>2</td>\n",
       "      <td>1</td>\n",
       "      <td>Male</td>\n",
       "      <td>1</td>\n",
       "      <td>Yes</td>\n",
       "      <td>No</td>\n",
       "      <td>13</td>\n",
       "      <td>Yes</td>\n",
       "      <td>No</td>\n",
       "      <td>...</td>\n",
       "      <td>No</td>\n",
       "      <td>Yes</td>\n",
       "      <td>Yes</td>\n",
       "      <td>Yes</td>\n",
       "      <td>98.0</td>\n",
       "      <td>1237.85</td>\n",
       "      <td>Yes</td>\n",
       "      <td>Month-to-month</td>\n",
       "      <td>Fiber optic</td>\n",
       "      <td>Electronic check</td>\n",
       "    </tr>\n",
       "    <tr>\n",
       "      <th>4</th>\n",
       "      <td>2</td>\n",
       "      <td>2</td>\n",
       "      <td>1</td>\n",
       "      <td>Female</td>\n",
       "      <td>1</td>\n",
       "      <td>Yes</td>\n",
       "      <td>No</td>\n",
       "      <td>3</td>\n",
       "      <td>Yes</td>\n",
       "      <td>No</td>\n",
       "      <td>...</td>\n",
       "      <td>Yes</td>\n",
       "      <td>Yes</td>\n",
       "      <td>No</td>\n",
       "      <td>Yes</td>\n",
       "      <td>83.9</td>\n",
       "      <td>267.4</td>\n",
       "      <td>Yes</td>\n",
       "      <td>Month-to-month</td>\n",
       "      <td>Fiber optic</td>\n",
       "      <td>Mailed check</td>\n",
       "    </tr>\n",
       "  </tbody>\n",
       "</table>\n",
       "<p>5 rows × 23 columns</p>\n",
       "</div>"
      ],
      "text/plain": [
       "   payment_type_id  internet_service_type_id  contract_type_id  gender  \\\n",
       "0                2                         1                 2  Female   \n",
       "1                2                         1                 1    Male   \n",
       "2                1                         2                 1    Male   \n",
       "3                1                         2                 1    Male   \n",
       "4                2                         2                 1  Female   \n",
       "\n",
       "   senior_citizen partner dependents  tenure phone_service multiple_lines  \\\n",
       "0               0     Yes        Yes       9           Yes             No   \n",
       "1               0      No         No       9           Yes            Yes   \n",
       "2               0      No         No       4           Yes             No   \n",
       "3               1     Yes         No      13           Yes             No   \n",
       "4               1     Yes         No       3           Yes             No   \n",
       "\n",
       "   ... tech_support streaming_tv streaming_movies paperless_billing  \\\n",
       "0  ...          Yes          Yes               No               Yes   \n",
       "1  ...           No           No              Yes                No   \n",
       "2  ...           No           No               No               Yes   \n",
       "3  ...           No          Yes              Yes               Yes   \n",
       "4  ...          Yes          Yes               No               Yes   \n",
       "\n",
       "  monthly_charges total_charges churn   contract_type internet_service_type  \\\n",
       "0            65.6         593.3    No        One year                   DSL   \n",
       "1            59.9         542.4    No  Month-to-month                   DSL   \n",
       "2            73.9        280.85   Yes  Month-to-month           Fiber optic   \n",
       "3            98.0       1237.85   Yes  Month-to-month           Fiber optic   \n",
       "4            83.9         267.4   Yes  Month-to-month           Fiber optic   \n",
       "\n",
       "       payment_type  \n",
       "0      Mailed check  \n",
       "1      Mailed check  \n",
       "2  Electronic check  \n",
       "3  Electronic check  \n",
       "4      Mailed check  \n",
       "\n",
       "[5 rows x 23 columns]"
      ]
     },
     "execution_count": 6,
     "metadata": {},
     "output_type": "execute_result"
    }
   ],
   "source": [
    "# Drop null values stored as whitespace    \n",
    "df.head()"
   ]
  },
  {
   "cell_type": "code",
   "execution_count": 7,
   "id": "8046496b-a89b-4166-9b74-63eb610c3209",
   "metadata": {
    "tags": []
   },
   "outputs": [
    {
     "data": {
      "text/plain": [
       "array(['Mailed check', 'Electronic check', 'Credit card (automatic)',\n",
       "       'Bank transfer (automatic)'], dtype=object)"
      ]
     },
     "execution_count": 7,
     "metadata": {},
     "output_type": "execute_result"
    }
   ],
   "source": [
    "df.payment_type.unique()"
   ]
  },
  {
   "cell_type": "code",
   "execution_count": 8,
   "id": "da79e9d5-ff1c-4a32-b17e-7ff2189277f4",
   "metadata": {
    "tags": []
   },
   "outputs": [],
   "source": [
    "df['payment_type'] = df['payment_type'].str.replace(' (automatic)', '')"
   ]
  },
  {
   "cell_type": "code",
   "execution_count": 9,
   "id": "94f88e99-1df4-4180-bd74-5108584b893c",
   "metadata": {
    "tags": []
   },
   "outputs": [
    {
     "data": {
      "text/plain": [
       "array(['Mailed check', 'Electronic check', 'Credit card (automatic)',\n",
       "       'Bank transfer (automatic)'], dtype=object)"
      ]
     },
     "execution_count": 9,
     "metadata": {},
     "output_type": "execute_result"
    }
   ],
   "source": [
    "df.payment_type.unique()"
   ]
  },
  {
   "cell_type": "code",
   "execution_count": 10,
   "id": "075a74aa-668a-4138-b8f9-5a042e93ee71",
   "metadata": {
    "tags": []
   },
   "outputs": [
    {
     "name": "stdout",
     "output_type": "stream",
     "text": [
      "<class 'pandas.core.frame.DataFrame'>\n",
      "Int64Index: 7043 entries, 0 to 7042\n",
      "Data columns (total 23 columns):\n",
      " #   Column                    Non-Null Count  Dtype  \n",
      "---  ------                    --------------  -----  \n",
      " 0   payment_type_id           7043 non-null   int64  \n",
      " 1   internet_service_type_id  7043 non-null   int64  \n",
      " 2   contract_type_id          7043 non-null   int64  \n",
      " 3   gender                    7043 non-null   object \n",
      " 4   senior_citizen            7043 non-null   int64  \n",
      " 5   partner                   7043 non-null   object \n",
      " 6   dependents                7043 non-null   object \n",
      " 7   tenure                    7043 non-null   int64  \n",
      " 8   phone_service             7043 non-null   object \n",
      " 9   multiple_lines            7043 non-null   object \n",
      " 10  online_security           7043 non-null   object \n",
      " 11  online_backup             7043 non-null   object \n",
      " 12  device_protection         7043 non-null   object \n",
      " 13  tech_support              7043 non-null   object \n",
      " 14  streaming_tv              7043 non-null   object \n",
      " 15  streaming_movies          7043 non-null   object \n",
      " 16  paperless_billing         7043 non-null   object \n",
      " 17  monthly_charges           7043 non-null   float64\n",
      " 18  total_charges             7043 non-null   object \n",
      " 19  churn                     7043 non-null   object \n",
      " 20  contract_type             7043 non-null   object \n",
      " 21  internet_service_type     7043 non-null   object \n",
      " 22  payment_type              7043 non-null   object \n",
      "dtypes: float64(1), int64(5), object(17)\n",
      "memory usage: 1.3+ MB\n"
     ]
    }
   ],
   "source": [
    "df.info()"
   ]
  },
  {
   "cell_type": "code",
   "execution_count": 11,
   "id": "1278c87c-809c-43ea-97d2-9d454b1c52fa",
   "metadata": {
    "tags": []
   },
   "outputs": [
    {
     "data": {
      "image/png": "[encoded data removed]",
      "text/plain": [
       "<Figure size 640x480 with 1 Axes>"
      ]
     },
     "metadata": {},
     "output_type": "display_data"
    }
   ],
   "source": [
    "# Scatterplot with monthly charges, tenure, and contract type separated by churn \n",
    "\n",
    "sns.scatterplot(x='tenure', y='monthly_charges', data=df, hue='churn', style='contract_type')\n",
    "\n",
    "plt.title('Churn by Monthly Charges&Tenure and Contract Type')\n",
    "plt.show()"
   ]
  },
  {
   "cell_type": "code",
   "execution_count": null,
   "id": "2640b0f7-fd7f-4796-a55e-7d831b975b74",
   "metadata": {
    "scrolled": true,
    "tags": []
   },
   "outputs": [],
   "source": []
  },
  {
   "cell_type": "code",
   "execution_count": 12,
   "id": "c446ddbd-036e-4c9b-b0d8-4c90f2c2e5d7",
   "metadata": {
    "tags": []
   },
   "outputs": [],
   "source": [
    "def churn_overall(df):\n",
    "    # create a figure\n",
    "    fig = plt.figure(figsize=(12, 6)) \n",
    "    ax = fig.add_subplot(111)\n",
    "\n",
    "    # proportion of observation of each class\n",
    "    prop_response = df['churn'].value_counts(normalize=True)\n",
    "\n",
    "    # create a bar plot showing the percentage of churn\n",
    "    prop_response.plot(kind='bar', \n",
    "                    ax=ax,\n",
    "                    color= ['#1f77b4', '#ff7f0e'])\n",
    "\n",
    "\n",
    "    # set title and labels\n",
    "    ax.set_title('Proportion of observations of the response variable',\n",
    "                fontsize=18)\n",
    "    ax.set_xlabel('churn',\n",
    "                fontsize=14)\n",
    "    ax.set_ylabel('proportion of observations',\n",
    "                fontsize=14)\n",
    "    ax.tick_params(rotation='auto')\n",
    "\n",
    "\n"
   ]
  },
  {
   "cell_type": "code",
   "execution_count": 13,
   "id": "9f584b4b-4cfa-4700-b3cd-273703a8e697",
   "metadata": {
    "tags": []
   },
   "outputs": [
    {
     "data": {
      "image/png": "[encoded data removed]",
      "text/plain": [
       "<Figure size 1200x600 with 1 Axes>"
      ]
     },
     "metadata": {},
     "output_type": "display_data"
    }
   ],
   "source": [
    "churn_overall(df)"
   ]
  },
  {
   "cell_type": "code",
   "execution_count": 14,
   "id": "95370f60-c542-431d-9fda-ab1f288d4666",
   "metadata": {
    "tags": []
   },
   "outputs": [
    {
     "name": "stdout",
     "output_type": "stream",
     "text": [
      "0.7346301292063041\n",
      "0.2653698707936959\n"
     ]
    }
   ],
   "source": [
    "#this is show the percent of times yes and no of churn\n",
    "print((df['churn'] == 'No').mean())\n",
    "print((df['churn'] == 'Yes').mean())"
   ]
  },
  {
   "cell_type": "code",
   "execution_count": 15,
   "id": "a07d5d19-00ee-40c6-ab59-668c7120ff35",
   "metadata": {
    "tags": []
   },
   "outputs": [],
   "source": [
    "# I want to split the churns between yes and no's and the cat_cols / nums_cols\n",
    "# separating our numeric and categorical columns:\n"
   ]
  },
  {
   "cell_type": "code",
   "execution_count": 16,
   "id": "414dc014-b7e9-4aff-9121-06d1a5f41227",
   "metadata": {
    "tags": []
   },
   "outputs": [],
   "source": [
    "# I want to split the churns between yes and no's and the cat_cols / nums_cols\n",
    "# separating our numeric and categorical columns:\n",
    "\n",
    "cat_cols, num_cols = [], []\n",
    "\n",
    "for col in df:\n",
    "    if df[col].dtype == 'O':\n",
    "         cat_cols.append(col)\n",
    "    else:\n",
    "        if df[col].nunique() < 10:\n",
    "            cat_cols.append(col)\n",
    "        else:\n",
    "             num_cols.append(col)"
   ]
  },
  {
   "cell_type": "code",
   "execution_count": 17,
   "id": "0b2fc121-3039-4063-b2ee-80644133fc6b",
   "metadata": {
    "tags": []
   },
   "outputs": [
    {
     "data": {
      "text/plain": [
       "['tenure', 'monthly_charges']"
      ]
     },
     "execution_count": 17,
     "metadata": {},
     "output_type": "execute_result"
    }
   ],
   "source": [
    "num_cols"
   ]
  },
  {
   "cell_type": "code",
   "execution_count": 18,
   "id": "6b05b134-76e2-4612-a15a-c7e6a0ebfd6b",
   "metadata": {
    "tags": []
   },
   "outputs": [
    {
     "data": {
      "text/plain": [
       "['payment_type_id',\n",
       " 'internet_service_type_id',\n",
       " 'contract_type_id',\n",
       " 'gender',\n",
       " 'senior_citizen',\n",
       " 'partner',\n",
       " 'dependents',\n",
       " 'phone_service',\n",
       " 'multiple_lines',\n",
       " 'online_security',\n",
       " 'online_backup',\n",
       " 'device_protection',\n",
       " 'tech_support',\n",
       " 'streaming_tv',\n",
       " 'streaming_movies',\n",
       " 'paperless_billing',\n",
       " 'total_charges',\n",
       " 'churn',\n",
       " 'contract_type',\n",
       " 'internet_service_type',\n",
       " 'payment_type']"
      ]
     },
     "execution_count": 18,
     "metadata": {},
     "output_type": "execute_result"
    }
   ],
   "source": [
    "cat_cols"
   ]
  },
  {
   "cell_type": "markdown",
   "id": "6a2d6225-b1e2-4048-bd81-a541bec067b3",
   "metadata": {},
   "source": [
    "## Online Security Chi squared test\n",
    "\n",
    "# $H_0$: Online secuirty is a cause of churn\n",
    "\n",
    "# $H_a$: Online security is not casue of churn \n"
   ]
  },
  {
   "cell_type": "code",
   "execution_count": 19,
   "id": "0612a128-08d0-4e99-aa5a-818311db2074",
   "metadata": {
    "tags": []
   },
   "outputs": [],
   "source": [
    "alpha = .05"
   ]
  },
  {
   "cell_type": "code",
   "execution_count": 20,
   "id": "432e062c-62d7-4562-844b-64eadf89cbff",
   "metadata": {
    "tags": []
   },
   "outputs": [],
   "source": [
    "# dropped No internet service from the crosstab\n",
    "on_sec = df.online_security[df.online_security != 'No internet service']"
   ]
  },
  {
   "cell_type": "code",
   "execution_count": 21,
   "id": "61d3ea64-3510-4427-a433-d327fd2b5757",
   "metadata": {
    "tags": []
   },
   "outputs": [],
   "source": [
    "on_sec_obs = pd.crosstab(df.churn, on_sec)"
   ]
  },
  {
   "cell_type": "code",
   "execution_count": 22,
   "id": "740dd55a-2c1b-4ad6-b24b-00309c8e8b96",
   "metadata": {
    "tags": []
   },
   "outputs": [
    {
     "data": {
      "text/plain": [
       "(433.8080619245688,\n",
       " 2.4103054690052725e-96,\n",
       " 1,\n",
       " array([[2384.62533986, 1376.37466014],\n",
       "        [1113.37466014,  642.62533986]]))"
      ]
     },
     "execution_count": 22,
     "metadata": {},
     "output_type": "execute_result"
    }
   ],
   "source": [
    "chi2, p, degf, expected = stats.chi2_contingency(on_sec_obs)\n",
    "chi2, p, degf, expected"
   ]
  },
  {
   "cell_type": "code",
   "execution_count": 23,
   "id": "88935e79-7895-4d92-8205-c9a7b4226230",
   "metadata": {
    "tags": []
   },
   "outputs": [
    {
     "name": "stdout",
     "output_type": "stream",
     "text": [
      "Observed Values\n",
      "\n",
      "[[2037 1724]\n",
      " [1461  295]]\n",
      "---\n",
      "Expected Values\n",
      "\n",
      "[[2384 1376]\n",
      " [1113  642]]\n",
      "---\n",
      "\n",
      "chi^2 = 433.808\n",
      "p= 0.000\n"
     ]
    }
   ],
   "source": [
    "# print 'Observed Values' followed by a new line\n",
    "print('Observed Values\\n')\n",
    "\n",
    "# print the values from the 'observed' dataframe\n",
    "print(on_sec_obs.values)\n",
    "\n",
    "# print --- and then a new line, 'Expected Values', followed by another new line\n",
    "print('---\\nExpected Values\\n')\n",
    "\n",
    "# print the expected values array\n",
    "print(expected.astype(int))\n",
    "\n",
    "# print a new line\n",
    "print('---\\n')\n",
    "\n",
    "# print the chi2 value, formatted to a float with 3 digits. \n",
    "print(f'chi^2 = {chi2:.3f}') \n",
    "\n",
    "# print the p-value, formatted to a float with 3 digits. \n",
    "print(f'p= {p:.3f}')"
   ]
  },
  {
   "cell_type": "code",
   "execution_count": 24,
   "id": "320da07e-ebae-4a63-adb8-db174e34c62f",
   "metadata": {
    "tags": []
   },
   "outputs": [
    {
     "name": "stdout",
     "output_type": "stream",
     "text": [
      "We reject the null hypothesis\n"
     ]
    }
   ],
   "source": [
    "if p < alpha:\n",
    "    print('We reject the null hypothesis')\n",
    "else:\n",
    "    print('We fail to reject the null hypothesis')"
   ]
  },
  {
   "cell_type": "markdown",
   "id": "3a3845df-25c6-41f9-8578-1acd0342fbd2",
   "metadata": {
    "tags": []
   },
   "source": [
    "## tech_support Chi squared test\n",
    "\n",
    "# $H_0$: tech_support is a cause of churn\n",
    "\n",
    "# $H_a$: tech_support is not casue of churn "
   ]
  },
  {
   "cell_type": "code",
   "execution_count": 25,
   "id": "bbb9d8ca-9c59-4c05-8845-499dd1472b1b",
   "metadata": {
    "tags": []
   },
   "outputs": [
    {
     "name": "stdout",
     "output_type": "stream",
     "text": [
      "Observed Values\n",
      "\n",
      "[[2027 1734]\n",
      " [1446  310]]\n",
      "---\n",
      "Expected Values\n",
      "\n",
      "[[2367 1393]\n",
      " [1105  650]]\n",
      "---\n",
      "\n",
      "chi^2 = 414.252\n",
      "p     = 0.000\n"
     ]
    }
   ],
   "source": [
    "on_tech = df.tech_support[df.tech_support != 'No internet service']\n",
    "on_tech_obs = pd.crosstab(df.churn, on_tech)\n",
    "chi2, p, degf, expected4 = stats.chi2_contingency(on_tech_obs)\n",
    "chi2, p, degf, expected4\n",
    "# print 'Observed Values' followed by a new line\n",
    "print('Observed Values\\n')\n",
    "\n",
    "# print the values from the 'observed' dataframe\n",
    "print(on_tech_obs.values)\n",
    "\n",
    "# print --- and then a new line, 'Expected Values', followed by another new line\n",
    "print('---\\nExpected Values\\n')\n",
    "\n",
    "# print the expected values array\n",
    "print(expected4.astype(int))\n",
    "\n",
    "# print a new line\n",
    "print('---\\n')\n",
    "\n",
    "# print the chi2 value, formatted to a float with 3 digits. \n",
    "print(f'chi^2 = {chi2:.3f}') \n",
    "\n",
    "# print the p-value, formatted to a float with 3 digits. \n",
    "print(f'p     = {p:.3f}')"
   ]
  },
  {
   "cell_type": "code",
   "execution_count": 26,
   "id": "3eb0819c-a654-4950-a012-61a2b715cdb8",
   "metadata": {
    "tags": []
   },
   "outputs": [
    {
     "name": "stdout",
     "output_type": "stream",
     "text": [
      "We reject the null hypothesis\n"
     ]
    }
   ],
   "source": [
    "if p < alpha:\n",
    "    print('We reject the null hypothesis')\n",
    "else:\n",
    "    print('We fail to reject the null hypothesis')"
   ]
  },
  {
   "cell_type": "markdown",
   "id": "516c20b1-95cf-4232-b2d3-6c45c07f0968",
   "metadata": {},
   "source": [
    "## Device Protection Chi Squared Test\n",
    "\n",
    "# $H_0$: device protection is a cause of churn\n",
    "\n",
    "# $H_a$: device protection is not casue of churn "
   ]
  },
  {
   "cell_type": "code",
   "execution_count": null,
   "id": "55a99aaa-c3b3-4c5a-ab42-5dc9b92d1b45",
   "metadata": {},
   "outputs": [],
   "source": []
  },
  {
   "cell_type": "code",
   "execution_count": 27,
   "id": "7c8f4dce-4095-4422-817e-c42e391a4524",
   "metadata": {
    "tags": []
   },
   "outputs": [
    {
     "name": "stdout",
     "output_type": "stream",
     "text": [
      "Observed Values\n",
      "\n",
      "[[1884 1877]\n",
      " [1211  545]]\n",
      "---\n",
      "Expected Values\n",
      "\n",
      "[[2109 1651]\n",
      " [ 985  770]]\n",
      "---\n",
      "\n",
      "chi^2 = 172.321\n",
      "p     = 0.000\n"
     ]
    }
   ],
   "source": [
    "on_dev = df.device_protection[df.device_protection != 'No internet service']\n",
    "on_dev_obs = pd.crosstab(df.churn, on_dev)\n",
    "chi2, p, degf, expected3 = stats.chi2_contingency(on_dev_obs)\n",
    "chi2, p, degf, expected3\n",
    "# print 'Observed Values' followed by a new line\n",
    "print('Observed Values\\n')\n",
    "\n",
    "# print the values from the 'observed' dataframe\n",
    "print(on_dev_obs.values)\n",
    "\n",
    "# print --- and then a new line, 'Expected Values', followed by another new line\n",
    "print('---\\nExpected Values\\n')\n",
    "\n",
    "# print the expected values array\n",
    "print(expected3.astype(int))\n",
    "\n",
    "# print a new line\n",
    "print('---\\n')\n",
    "\n",
    "# print the chi2 value, formatted to a float with 3 digits. \n",
    "print(f'chi^2 = {chi2:.3f}') \n",
    "\n",
    "# print the p-value, formatted to a float with 3 digits. \n",
    "print(f'p     = {p:.3f}')"
   ]
  },
  {
   "cell_type": "code",
   "execution_count": 28,
   "id": "f881efe6-097d-4b36-b910-a520298afaec",
   "metadata": {
    "tags": []
   },
   "outputs": [
    {
     "name": "stdout",
     "output_type": "stream",
     "text": [
      "We reject the null hypothesis\n"
     ]
    }
   ],
   "source": [
    "if p < alpha:\n",
    "    print('We reject the null hypothesis')\n",
    "else:\n",
    "    print('We fail to reject the null hypothesis')"
   ]
  },
  {
   "cell_type": "markdown",
   "id": "c317d2a1-be90-45b9-bcb7-de4d19bd7b7c",
   "metadata": {},
   "source": [
    "Online backup Chi Squared test\n",
    "\n",
    "# $H_0$: online_backup is the cause of churn\n",
    "# $H_a$: online_backup is not the cause of churn"
   ]
  },
  {
   "cell_type": "code",
   "execution_count": 29,
   "id": "74813c39-d781-4a17-bc96-1f409ecd9b85",
   "metadata": {
    "tags": []
   },
   "outputs": [],
   "source": [
    "on_back = df.online_backup[df.online_backup != 'No internet service']"
   ]
  },
  {
   "cell_type": "code",
   "execution_count": 30,
   "id": "4711ea8f-c128-4954-bd96-921df718a7cd",
   "metadata": {
    "tags": []
   },
   "outputs": [],
   "source": [
    "on_back_obs = pd.crosstab(df.churn, on_back)"
   ]
  },
  {
   "cell_type": "code",
   "execution_count": 31,
   "id": "0070536a-90e7-4e4c-9329-5ec91f1ed8d3",
   "metadata": {
    "tags": []
   },
   "outputs": [
    {
     "name": "stdout",
     "output_type": "stream",
     "text": [
      "Observed Values\n",
      "\n",
      "[[1855 1906]\n",
      " [1233  523]]\n",
      "---\n",
      "Expected Values\n",
      "\n",
      "[[2105 1655]\n",
      " [ 982  773]]\n",
      "---\n",
      "\n",
      "chi^2 = 211.226\n",
      "p     = 0.000\n"
     ]
    }
   ],
   "source": [
    "chi2, p, degf, expected2 = stats.chi2_contingency(on_back_obs)\n",
    "chi2, p, degf, expected2\n",
    "# print 'Observed Values' followed by a new line\n",
    "print('Observed Values\\n')\n",
    "\n",
    "# print the values from the 'observed' dataframe\n",
    "print(on_back_obs.values)\n",
    "\n",
    "# print --- and then a new line, 'Expected Values', followed by another new line\n",
    "print('---\\nExpected Values\\n')\n",
    "\n",
    "# print the expected values array\n",
    "print(expected2.astype(int))\n",
    "\n",
    "# print a new line\n",
    "print('---\\n')\n",
    "\n",
    "# print the chi2 value, formatted to a float with 3 digits. \n",
    "print(f'chi^2 = {chi2:.3f}') \n",
    "\n",
    "# print the p-value, formatted to a float with 3 digits. \n",
    "print(f'p     = {p:.3f}')\n"
   ]
  },
  {
   "cell_type": "code",
   "execution_count": 32,
   "id": "54f078f7-2b4a-499a-bfcc-3ae5740551e5",
   "metadata": {
    "tags": []
   },
   "outputs": [
    {
     "name": "stdout",
     "output_type": "stream",
     "text": [
      "We reject the null hypothesis\n"
     ]
    }
   ],
   "source": [
    "if p < alpha:\n",
    "    print('We reject the null hypothesis')\n",
    "else:\n",
    "    print('We fail to reject the null hypothesis')"
   ]
  },
  {
   "cell_type": "code",
   "execution_count": 33,
   "id": "5efaaeba-b32c-4ff9-bf0b-6a7a242b033f",
   "metadata": {
    "tags": []
   },
   "outputs": [
    {
     "data": {
      "text/html": [
       "<div>\n",
       "<style scoped>\n",
       "    .dataframe tbody tr th:only-of-type {\n",
       "        vertical-align: middle;\n",
       "    }\n",
       "\n",
       "    .dataframe tbody tr th {\n",
       "        vertical-align: top;\n",
       "    }\n",
       "\n",
       "    .dataframe thead th {\n",
       "        text-align: right;\n",
       "    }\n",
       "</style>\n",
       "<table border=\"1\" class=\"dataframe\">\n",
       "  <thead>\n",
       "    <tr style=\"text-align: right;\">\n",
       "      <th></th>\n",
       "      <th>payment_type_id</th>\n",
       "      <th>internet_service_type_id</th>\n",
       "      <th>contract_type_id</th>\n",
       "      <th>gender</th>\n",
       "      <th>senior_citizen</th>\n",
       "      <th>partner</th>\n",
       "      <th>dependents</th>\n",
       "      <th>tenure</th>\n",
       "      <th>phone_service</th>\n",
       "      <th>multiple_lines</th>\n",
       "      <th>...</th>\n",
       "      <th>tech_support</th>\n",
       "      <th>streaming_tv</th>\n",
       "      <th>streaming_movies</th>\n",
       "      <th>paperless_billing</th>\n",
       "      <th>monthly_charges</th>\n",
       "      <th>total_charges</th>\n",
       "      <th>churn</th>\n",
       "      <th>contract_type</th>\n",
       "      <th>internet_service_type</th>\n",
       "      <th>payment_type</th>\n",
       "    </tr>\n",
       "  </thead>\n",
       "  <tbody>\n",
       "    <tr>\n",
       "      <th>0</th>\n",
       "      <td>2</td>\n",
       "      <td>1</td>\n",
       "      <td>2</td>\n",
       "      <td>Female</td>\n",
       "      <td>0</td>\n",
       "      <td>Yes</td>\n",
       "      <td>Yes</td>\n",
       "      <td>9</td>\n",
       "      <td>Yes</td>\n",
       "      <td>No</td>\n",
       "      <td>...</td>\n",
       "      <td>Yes</td>\n",
       "      <td>Yes</td>\n",
       "      <td>No</td>\n",
       "      <td>Yes</td>\n",
       "      <td>65.6</td>\n",
       "      <td>593.3</td>\n",
       "      <td>No</td>\n",
       "      <td>One year</td>\n",
       "      <td>DSL</td>\n",
       "      <td>Mailed check</td>\n",
       "    </tr>\n",
       "  </tbody>\n",
       "</table>\n",
       "<p>1 rows × 23 columns</p>\n",
       "</div>"
      ],
      "text/plain": [
       "   payment_type_id  internet_service_type_id  contract_type_id  gender  \\\n",
       "0                2                         1                 2  Female   \n",
       "\n",
       "   senior_citizen partner dependents  tenure phone_service multiple_lines  \\\n",
       "0               0     Yes        Yes       9           Yes             No   \n",
       "\n",
       "   ... tech_support streaming_tv streaming_movies paperless_billing  \\\n",
       "0  ...          Yes          Yes               No               Yes   \n",
       "\n",
       "  monthly_charges total_charges churn  contract_type internet_service_type  \\\n",
       "0            65.6         593.3    No       One year                   DSL   \n",
       "\n",
       "   payment_type  \n",
       "0  Mailed check  \n",
       "\n",
       "[1 rows x 23 columns]"
      ]
     },
     "execution_count": 33,
     "metadata": {},
     "output_type": "execute_result"
    }
   ],
   "source": [
    "df.head(1)"
   ]
  },
  {
   "cell_type": "markdown",
   "id": "5f49e5c0-4ac1-469e-b5b8-c68cbdc8e53f",
   "metadata": {},
   "source": [
    "## Internet service type Chi Squared test\n",
    "\n",
    "# $H_0$: internet service type is the cause of churn\n",
    "# $H_a$: internet service type is not the cause of churn"
   ]
  },
  {
   "cell_type": "code",
   "execution_count": null,
   "id": "f5f650fb-5d3b-4b43-b4b1-851cd40657f6",
   "metadata": {},
   "outputs": [],
   "source": []
  },
  {
   "cell_type": "code",
   "execution_count": 34,
   "id": "c26c1695-1677-41a7-8746-3fe3e9285196",
   "metadata": {
    "tags": []
   },
   "outputs": [
    {
     "data": {
      "text/html": [
       "<div>\n",
       "<style scoped>\n",
       "    .dataframe tbody tr th:only-of-type {\n",
       "        vertical-align: middle;\n",
       "    }\n",
       "\n",
       "    .dataframe tbody tr th {\n",
       "        vertical-align: top;\n",
       "    }\n",
       "\n",
       "    .dataframe thead th {\n",
       "        text-align: right;\n",
       "    }\n",
       "</style>\n",
       "<table border=\"1\" class=\"dataframe\">\n",
       "  <thead>\n",
       "    <tr style=\"text-align: right;\">\n",
       "      <th>internet_service_type</th>\n",
       "      <th>DSL</th>\n",
       "      <th>Fiber optic</th>\n",
       "      <th>None</th>\n",
       "    </tr>\n",
       "    <tr>\n",
       "      <th>churn</th>\n",
       "      <th></th>\n",
       "      <th></th>\n",
       "      <th></th>\n",
       "    </tr>\n",
       "  </thead>\n",
       "  <tbody>\n",
       "    <tr>\n",
       "      <th>No</th>\n",
       "      <td>1962</td>\n",
       "      <td>1799</td>\n",
       "      <td>1413</td>\n",
       "    </tr>\n",
       "    <tr>\n",
       "      <th>Yes</th>\n",
       "      <td>459</td>\n",
       "      <td>1297</td>\n",
       "      <td>113</td>\n",
       "    </tr>\n",
       "  </tbody>\n",
       "</table>\n",
       "</div>"
      ],
      "text/plain": [
       "internet_service_type   DSL  Fiber optic  None\n",
       "churn                                         \n",
       "No                     1962         1799  1413\n",
       "Yes                     459         1297   113"
      ]
     },
     "execution_count": 34,
     "metadata": {},
     "output_type": "execute_result"
    }
   ],
   "source": [
    "int_service_obs = pd.crosstab(df.churn, df.internet_service_type)\n",
    "int_service_obs"
   ]
  },
  {
   "cell_type": "code",
   "execution_count": 35,
   "id": "c98031cd-8d9f-420b-ab94-5ffbf3e046ce",
   "metadata": {
    "tags": []
   },
   "outputs": [
    {
     "name": "stdout",
     "output_type": "stream",
     "text": [
      "Observed Values\n",
      "\n",
      "[[1962 1799 1413]\n",
      " [ 459 1297  113]]\n",
      "---\n",
      "Expected Values\n",
      "\n",
      "[[1778 2274 1121]\n",
      " [ 642  821  404]]\n",
      "---\n",
      "\n",
      "chi^2 = 732.310\n",
      "p     = 0.000\n"
     ]
    }
   ],
   "source": [
    "int_service_obs = pd.crosstab(df.churn, df.internet_service_type)\n",
    "chi2, p, degf, expected5 = stats.chi2_contingency(int_service_obs)\n",
    "chi2, p, degf, expected5\n",
    "# print 'Observed Values' followed by a new line\n",
    "print('Observed Values\\n')\n",
    "\n",
    "# print the values from the 'observed' dataframe\n",
    "print(int_service_obs.values)\n",
    "\n",
    "# print --- and then a new line, 'Expected Values', followed by another new line\n",
    "print('---\\nExpected Values\\n')\n",
    "\n",
    "# print the expected values array\n",
    "print(expected5.astype(int))\n",
    "\n",
    "# print a new line\n",
    "print('---\\n')\n",
    "\n",
    "# print the chi2 value, formatted to a float with 3 digits. \n",
    "print(f'chi^2 = {chi2:.3f}') \n",
    "\n",
    "# print the p-value, formatted to a float with 3 digits. \n",
    "print(f'p     = {p:.3f}')"
   ]
  },
  {
   "cell_type": "code",
   "execution_count": 36,
   "id": "9c3f868b-53b2-403b-91a0-aafb1621f0b0",
   "metadata": {
    "tags": []
   },
   "outputs": [
    {
     "name": "stdout",
     "output_type": "stream",
     "text": [
      "We reject the null hypothesis\n"
     ]
    }
   ],
   "source": [
    "if p < alpha:\n",
    "    print('We reject the null hypothesis')\n",
    "else:\n",
    "    print('We fail to reject the null hypothesis')"
   ]
  },
  {
   "cell_type": "code",
   "execution_count": 37,
   "id": "7a3d64ce-e8b8-4f8c-9421-b79317b2c123",
   "metadata": {
    "tags": []
   },
   "outputs": [
    {
     "data": {
      "text/html": [
       "<div>\n",
       "<style scoped>\n",
       "    .dataframe tbody tr th:only-of-type {\n",
       "        vertical-align: middle;\n",
       "    }\n",
       "\n",
       "    .dataframe tbody tr th {\n",
       "        vertical-align: top;\n",
       "    }\n",
       "\n",
       "    .dataframe thead th {\n",
       "        text-align: right;\n",
       "    }\n",
       "</style>\n",
       "<table border=\"1\" class=\"dataframe\">\n",
       "  <thead>\n",
       "    <tr style=\"text-align: right;\">\n",
       "      <th></th>\n",
       "      <th>payment_type_id</th>\n",
       "      <th>internet_service_type_id</th>\n",
       "      <th>contract_type_id</th>\n",
       "      <th>gender</th>\n",
       "      <th>senior_citizen</th>\n",
       "      <th>partner</th>\n",
       "      <th>dependents</th>\n",
       "      <th>tenure</th>\n",
       "      <th>phone_service</th>\n",
       "      <th>multiple_lines</th>\n",
       "      <th>...</th>\n",
       "      <th>tech_support</th>\n",
       "      <th>streaming_tv</th>\n",
       "      <th>streaming_movies</th>\n",
       "      <th>paperless_billing</th>\n",
       "      <th>monthly_charges</th>\n",
       "      <th>total_charges</th>\n",
       "      <th>churn</th>\n",
       "      <th>contract_type</th>\n",
       "      <th>internet_service_type</th>\n",
       "      <th>payment_type</th>\n",
       "    </tr>\n",
       "  </thead>\n",
       "  <tbody>\n",
       "    <tr>\n",
       "      <th>0</th>\n",
       "      <td>2</td>\n",
       "      <td>1</td>\n",
       "      <td>2</td>\n",
       "      <td>Female</td>\n",
       "      <td>0</td>\n",
       "      <td>Yes</td>\n",
       "      <td>Yes</td>\n",
       "      <td>9</td>\n",
       "      <td>Yes</td>\n",
       "      <td>No</td>\n",
       "      <td>...</td>\n",
       "      <td>Yes</td>\n",
       "      <td>Yes</td>\n",
       "      <td>No</td>\n",
       "      <td>Yes</td>\n",
       "      <td>65.6</td>\n",
       "      <td>593.3</td>\n",
       "      <td>No</td>\n",
       "      <td>One year</td>\n",
       "      <td>DSL</td>\n",
       "      <td>Mailed check</td>\n",
       "    </tr>\n",
       "    <tr>\n",
       "      <th>1</th>\n",
       "      <td>2</td>\n",
       "      <td>1</td>\n",
       "      <td>1</td>\n",
       "      <td>Male</td>\n",
       "      <td>0</td>\n",
       "      <td>No</td>\n",
       "      <td>No</td>\n",
       "      <td>9</td>\n",
       "      <td>Yes</td>\n",
       "      <td>Yes</td>\n",
       "      <td>...</td>\n",
       "      <td>No</td>\n",
       "      <td>No</td>\n",
       "      <td>Yes</td>\n",
       "      <td>No</td>\n",
       "      <td>59.9</td>\n",
       "      <td>542.4</td>\n",
       "      <td>No</td>\n",
       "      <td>Month-to-month</td>\n",
       "      <td>DSL</td>\n",
       "      <td>Mailed check</td>\n",
       "    </tr>\n",
       "    <tr>\n",
       "      <th>2</th>\n",
       "      <td>1</td>\n",
       "      <td>2</td>\n",
       "      <td>1</td>\n",
       "      <td>Male</td>\n",
       "      <td>0</td>\n",
       "      <td>No</td>\n",
       "      <td>No</td>\n",
       "      <td>4</td>\n",
       "      <td>Yes</td>\n",
       "      <td>No</td>\n",
       "      <td>...</td>\n",
       "      <td>No</td>\n",
       "      <td>No</td>\n",
       "      <td>No</td>\n",
       "      <td>Yes</td>\n",
       "      <td>73.9</td>\n",
       "      <td>280.85</td>\n",
       "      <td>Yes</td>\n",
       "      <td>Month-to-month</td>\n",
       "      <td>Fiber optic</td>\n",
       "      <td>Electronic check</td>\n",
       "    </tr>\n",
       "    <tr>\n",
       "      <th>3</th>\n",
       "      <td>1</td>\n",
       "      <td>2</td>\n",
       "      <td>1</td>\n",
       "      <td>Male</td>\n",
       "      <td>1</td>\n",
       "      <td>Yes</td>\n",
       "      <td>No</td>\n",
       "      <td>13</td>\n",
       "      <td>Yes</td>\n",
       "      <td>No</td>\n",
       "      <td>...</td>\n",
       "      <td>No</td>\n",
       "      <td>Yes</td>\n",
       "      <td>Yes</td>\n",
       "      <td>Yes</td>\n",
       "      <td>98.0</td>\n",
       "      <td>1237.85</td>\n",
       "      <td>Yes</td>\n",
       "      <td>Month-to-month</td>\n",
       "      <td>Fiber optic</td>\n",
       "      <td>Electronic check</td>\n",
       "    </tr>\n",
       "    <tr>\n",
       "      <th>4</th>\n",
       "      <td>2</td>\n",
       "      <td>2</td>\n",
       "      <td>1</td>\n",
       "      <td>Female</td>\n",
       "      <td>1</td>\n",
       "      <td>Yes</td>\n",
       "      <td>No</td>\n",
       "      <td>3</td>\n",
       "      <td>Yes</td>\n",
       "      <td>No</td>\n",
       "      <td>...</td>\n",
       "      <td>Yes</td>\n",
       "      <td>Yes</td>\n",
       "      <td>No</td>\n",
       "      <td>Yes</td>\n",
       "      <td>83.9</td>\n",
       "      <td>267.4</td>\n",
       "      <td>Yes</td>\n",
       "      <td>Month-to-month</td>\n",
       "      <td>Fiber optic</td>\n",
       "      <td>Mailed check</td>\n",
       "    </tr>\n",
       "  </tbody>\n",
       "</table>\n",
       "<p>5 rows × 23 columns</p>\n",
       "</div>"
      ],
      "text/plain": [
       "   payment_type_id  internet_service_type_id  contract_type_id  gender  \\\n",
       "0                2                         1                 2  Female   \n",
       "1                2                         1                 1    Male   \n",
       "2                1                         2                 1    Male   \n",
       "3                1                         2                 1    Male   \n",
       "4                2                         2                 1  Female   \n",
       "\n",
       "   senior_citizen partner dependents  tenure phone_service multiple_lines  \\\n",
       "0               0     Yes        Yes       9           Yes             No   \n",
       "1               0      No         No       9           Yes            Yes   \n",
       "2               0      No         No       4           Yes             No   \n",
       "3               1     Yes         No      13           Yes             No   \n",
       "4               1     Yes         No       3           Yes             No   \n",
       "\n",
       "   ... tech_support streaming_tv streaming_movies paperless_billing  \\\n",
       "0  ...          Yes          Yes               No               Yes   \n",
       "1  ...           No           No              Yes                No   \n",
       "2  ...           No           No               No               Yes   \n",
       "3  ...           No          Yes              Yes               Yes   \n",
       "4  ...          Yes          Yes               No               Yes   \n",
       "\n",
       "  monthly_charges total_charges churn   contract_type internet_service_type  \\\n",
       "0            65.6         593.3    No        One year                   DSL   \n",
       "1            59.9         542.4    No  Month-to-month                   DSL   \n",
       "2            73.9        280.85   Yes  Month-to-month           Fiber optic   \n",
       "3            98.0       1237.85   Yes  Month-to-month           Fiber optic   \n",
       "4            83.9         267.4   Yes  Month-to-month           Fiber optic   \n",
       "\n",
       "       payment_type  \n",
       "0      Mailed check  \n",
       "1      Mailed check  \n",
       "2  Electronic check  \n",
       "3  Electronic check  \n",
       "4      Mailed check  \n",
       "\n",
       "[5 rows x 23 columns]"
      ]
     },
     "execution_count": 37,
     "metadata": {},
     "output_type": "execute_result"
    }
   ],
   "source": [
    "# I want to get dummy values for online security, online backup, device protection, abd tech support\n",
    "\n",
    "df.head()"
   ]
  },
  {
   "cell_type": "code",
   "execution_count": 38,
   "id": "2902b515-1f5b-454b-b6a4-6b373c5988c0",
   "metadata": {
    "tags": []
   },
   "outputs": [],
   "source": [
    "df_telco = acquire.get_telco_data()"
   ]
  },
  {
   "cell_type": "code",
   "execution_count": 39,
   "id": "4a27ee9a-17f4-4b79-84ec-d8b195960be5",
   "metadata": {
    "tags": []
   },
   "outputs": [
    {
     "data": {
      "text/html": [
       "<div>\n",
       "<style scoped>\n",
       "    .dataframe tbody tr th:only-of-type {\n",
       "        vertical-align: middle;\n",
       "    }\n",
       "\n",
       "    .dataframe tbody tr th {\n",
       "        vertical-align: top;\n",
       "    }\n",
       "\n",
       "    .dataframe thead th {\n",
       "        text-align: right;\n",
       "    }\n",
       "</style>\n",
       "<table border=\"1\" class=\"dataframe\">\n",
       "  <thead>\n",
       "    <tr style=\"text-align: right;\">\n",
       "      <th></th>\n",
       "      <th>payment_type_id</th>\n",
       "      <th>internet_service_type_id</th>\n",
       "      <th>contract_type_id</th>\n",
       "      <th>customer_id</th>\n",
       "      <th>gender</th>\n",
       "      <th>senior_citizen</th>\n",
       "      <th>partner</th>\n",
       "      <th>dependents</th>\n",
       "      <th>tenure</th>\n",
       "      <th>phone_service</th>\n",
       "      <th>...</th>\n",
       "      <th>tech_support</th>\n",
       "      <th>streaming_tv</th>\n",
       "      <th>streaming_movies</th>\n",
       "      <th>paperless_billing</th>\n",
       "      <th>monthly_charges</th>\n",
       "      <th>total_charges</th>\n",
       "      <th>churn</th>\n",
       "      <th>contract_type</th>\n",
       "      <th>internet_service_type</th>\n",
       "      <th>payment_type</th>\n",
       "    </tr>\n",
       "  </thead>\n",
       "  <tbody>\n",
       "    <tr>\n",
       "      <th>0</th>\n",
       "      <td>2</td>\n",
       "      <td>1</td>\n",
       "      <td>2</td>\n",
       "      <td>0002-ORFBO</td>\n",
       "      <td>Female</td>\n",
       "      <td>0</td>\n",
       "      <td>Yes</td>\n",
       "      <td>Yes</td>\n",
       "      <td>9</td>\n",
       "      <td>Yes</td>\n",
       "      <td>...</td>\n",
       "      <td>Yes</td>\n",
       "      <td>Yes</td>\n",
       "      <td>No</td>\n",
       "      <td>Yes</td>\n",
       "      <td>65.60</td>\n",
       "      <td>593.3</td>\n",
       "      <td>No</td>\n",
       "      <td>One year</td>\n",
       "      <td>DSL</td>\n",
       "      <td>Mailed check</td>\n",
       "    </tr>\n",
       "    <tr>\n",
       "      <th>1</th>\n",
       "      <td>2</td>\n",
       "      <td>1</td>\n",
       "      <td>1</td>\n",
       "      <td>0003-MKNFE</td>\n",
       "      <td>Male</td>\n",
       "      <td>0</td>\n",
       "      <td>No</td>\n",
       "      <td>No</td>\n",
       "      <td>9</td>\n",
       "      <td>Yes</td>\n",
       "      <td>...</td>\n",
       "      <td>No</td>\n",
       "      <td>No</td>\n",
       "      <td>Yes</td>\n",
       "      <td>No</td>\n",
       "      <td>59.90</td>\n",
       "      <td>542.4</td>\n",
       "      <td>No</td>\n",
       "      <td>Month-to-month</td>\n",
       "      <td>DSL</td>\n",
       "      <td>Mailed check</td>\n",
       "    </tr>\n",
       "    <tr>\n",
       "      <th>2</th>\n",
       "      <td>1</td>\n",
       "      <td>2</td>\n",
       "      <td>1</td>\n",
       "      <td>0004-TLHLJ</td>\n",
       "      <td>Male</td>\n",
       "      <td>0</td>\n",
       "      <td>No</td>\n",
       "      <td>No</td>\n",
       "      <td>4</td>\n",
       "      <td>Yes</td>\n",
       "      <td>...</td>\n",
       "      <td>No</td>\n",
       "      <td>No</td>\n",
       "      <td>No</td>\n",
       "      <td>Yes</td>\n",
       "      <td>73.90</td>\n",
       "      <td>280.85</td>\n",
       "      <td>Yes</td>\n",
       "      <td>Month-to-month</td>\n",
       "      <td>Fiber optic</td>\n",
       "      <td>Electronic check</td>\n",
       "    </tr>\n",
       "    <tr>\n",
       "      <th>3</th>\n",
       "      <td>1</td>\n",
       "      <td>2</td>\n",
       "      <td>1</td>\n",
       "      <td>0011-IGKFF</td>\n",
       "      <td>Male</td>\n",
       "      <td>1</td>\n",
       "      <td>Yes</td>\n",
       "      <td>No</td>\n",
       "      <td>13</td>\n",
       "      <td>Yes</td>\n",
       "      <td>...</td>\n",
       "      <td>No</td>\n",
       "      <td>Yes</td>\n",
       "      <td>Yes</td>\n",
       "      <td>Yes</td>\n",
       "      <td>98.00</td>\n",
       "      <td>1237.85</td>\n",
       "      <td>Yes</td>\n",
       "      <td>Month-to-month</td>\n",
       "      <td>Fiber optic</td>\n",
       "      <td>Electronic check</td>\n",
       "    </tr>\n",
       "    <tr>\n",
       "      <th>4</th>\n",
       "      <td>2</td>\n",
       "      <td>2</td>\n",
       "      <td>1</td>\n",
       "      <td>0013-EXCHZ</td>\n",
       "      <td>Female</td>\n",
       "      <td>1</td>\n",
       "      <td>Yes</td>\n",
       "      <td>No</td>\n",
       "      <td>3</td>\n",
       "      <td>Yes</td>\n",
       "      <td>...</td>\n",
       "      <td>Yes</td>\n",
       "      <td>Yes</td>\n",
       "      <td>No</td>\n",
       "      <td>Yes</td>\n",
       "      <td>83.90</td>\n",
       "      <td>267.4</td>\n",
       "      <td>Yes</td>\n",
       "      <td>Month-to-month</td>\n",
       "      <td>Fiber optic</td>\n",
       "      <td>Mailed check</td>\n",
       "    </tr>\n",
       "    <tr>\n",
       "      <th>...</th>\n",
       "      <td>...</td>\n",
       "      <td>...</td>\n",
       "      <td>...</td>\n",
       "      <td>...</td>\n",
       "      <td>...</td>\n",
       "      <td>...</td>\n",
       "      <td>...</td>\n",
       "      <td>...</td>\n",
       "      <td>...</td>\n",
       "      <td>...</td>\n",
       "      <td>...</td>\n",
       "      <td>...</td>\n",
       "      <td>...</td>\n",
       "      <td>...</td>\n",
       "      <td>...</td>\n",
       "      <td>...</td>\n",
       "      <td>...</td>\n",
       "      <td>...</td>\n",
       "      <td>...</td>\n",
       "      <td>...</td>\n",
       "      <td>...</td>\n",
       "    </tr>\n",
       "    <tr>\n",
       "      <th>7038</th>\n",
       "      <td>2</td>\n",
       "      <td>1</td>\n",
       "      <td>2</td>\n",
       "      <td>9987-LUTYD</td>\n",
       "      <td>Female</td>\n",
       "      <td>0</td>\n",
       "      <td>No</td>\n",
       "      <td>No</td>\n",
       "      <td>13</td>\n",
       "      <td>Yes</td>\n",
       "      <td>...</td>\n",
       "      <td>Yes</td>\n",
       "      <td>No</td>\n",
       "      <td>No</td>\n",
       "      <td>No</td>\n",
       "      <td>55.15</td>\n",
       "      <td>742.9</td>\n",
       "      <td>No</td>\n",
       "      <td>One year</td>\n",
       "      <td>DSL</td>\n",
       "      <td>Mailed check</td>\n",
       "    </tr>\n",
       "    <tr>\n",
       "      <th>7039</th>\n",
       "      <td>1</td>\n",
       "      <td>2</td>\n",
       "      <td>1</td>\n",
       "      <td>9992-RRAMN</td>\n",
       "      <td>Male</td>\n",
       "      <td>0</td>\n",
       "      <td>Yes</td>\n",
       "      <td>No</td>\n",
       "      <td>22</td>\n",
       "      <td>Yes</td>\n",
       "      <td>...</td>\n",
       "      <td>No</td>\n",
       "      <td>No</td>\n",
       "      <td>Yes</td>\n",
       "      <td>Yes</td>\n",
       "      <td>85.10</td>\n",
       "      <td>1873.7</td>\n",
       "      <td>Yes</td>\n",
       "      <td>Month-to-month</td>\n",
       "      <td>Fiber optic</td>\n",
       "      <td>Electronic check</td>\n",
       "    </tr>\n",
       "    <tr>\n",
       "      <th>7040</th>\n",
       "      <td>2</td>\n",
       "      <td>1</td>\n",
       "      <td>1</td>\n",
       "      <td>9992-UJOEL</td>\n",
       "      <td>Male</td>\n",
       "      <td>0</td>\n",
       "      <td>No</td>\n",
       "      <td>No</td>\n",
       "      <td>2</td>\n",
       "      <td>Yes</td>\n",
       "      <td>...</td>\n",
       "      <td>No</td>\n",
       "      <td>No</td>\n",
       "      <td>No</td>\n",
       "      <td>Yes</td>\n",
       "      <td>50.30</td>\n",
       "      <td>92.75</td>\n",
       "      <td>No</td>\n",
       "      <td>Month-to-month</td>\n",
       "      <td>DSL</td>\n",
       "      <td>Mailed check</td>\n",
       "    </tr>\n",
       "    <tr>\n",
       "      <th>7041</th>\n",
       "      <td>2</td>\n",
       "      <td>1</td>\n",
       "      <td>3</td>\n",
       "      <td>9993-LHIEB</td>\n",
       "      <td>Male</td>\n",
       "      <td>0</td>\n",
       "      <td>Yes</td>\n",
       "      <td>Yes</td>\n",
       "      <td>67</td>\n",
       "      <td>Yes</td>\n",
       "      <td>...</td>\n",
       "      <td>Yes</td>\n",
       "      <td>No</td>\n",
       "      <td>Yes</td>\n",
       "      <td>No</td>\n",
       "      <td>67.85</td>\n",
       "      <td>4627.65</td>\n",
       "      <td>No</td>\n",
       "      <td>Two year</td>\n",
       "      <td>DSL</td>\n",
       "      <td>Mailed check</td>\n",
       "    </tr>\n",
       "    <tr>\n",
       "      <th>7042</th>\n",
       "      <td>1</td>\n",
       "      <td>1</td>\n",
       "      <td>3</td>\n",
       "      <td>9995-HOTOH</td>\n",
       "      <td>Male</td>\n",
       "      <td>0</td>\n",
       "      <td>Yes</td>\n",
       "      <td>Yes</td>\n",
       "      <td>63</td>\n",
       "      <td>No</td>\n",
       "      <td>...</td>\n",
       "      <td>No</td>\n",
       "      <td>Yes</td>\n",
       "      <td>Yes</td>\n",
       "      <td>No</td>\n",
       "      <td>59.00</td>\n",
       "      <td>3707.6</td>\n",
       "      <td>No</td>\n",
       "      <td>Two year</td>\n",
       "      <td>DSL</td>\n",
       "      <td>Electronic check</td>\n",
       "    </tr>\n",
       "  </tbody>\n",
       "</table>\n",
       "<p>7043 rows × 24 columns</p>\n",
       "</div>"
      ],
      "text/plain": [
       "      payment_type_id  internet_service_type_id  contract_type_id customer_id  \\\n",
       "0                   2                         1                 2  0002-ORFBO   \n",
       "1                   2                         1                 1  0003-MKNFE   \n",
       "2                   1                         2                 1  0004-TLHLJ   \n",
       "3                   1                         2                 1  0011-IGKFF   \n",
       "4                   2                         2                 1  0013-EXCHZ   \n",
       "...               ...                       ...               ...         ...   \n",
       "7038                2                         1                 2  9987-LUTYD   \n",
       "7039                1                         2                 1  9992-RRAMN   \n",
       "7040                2                         1                 1  9992-UJOEL   \n",
       "7041                2                         1                 3  9993-LHIEB   \n",
       "7042                1                         1                 3  9995-HOTOH   \n",
       "\n",
       "      gender  senior_citizen partner dependents  tenure phone_service  ...  \\\n",
       "0     Female               0     Yes        Yes       9           Yes  ...   \n",
       "1       Male               0      No         No       9           Yes  ...   \n",
       "2       Male               0      No         No       4           Yes  ...   \n",
       "3       Male               1     Yes         No      13           Yes  ...   \n",
       "4     Female               1     Yes         No       3           Yes  ...   \n",
       "...      ...             ...     ...        ...     ...           ...  ...   \n",
       "7038  Female               0      No         No      13           Yes  ...   \n",
       "7039    Male               0     Yes         No      22           Yes  ...   \n",
       "7040    Male               0      No         No       2           Yes  ...   \n",
       "7041    Male               0     Yes        Yes      67           Yes  ...   \n",
       "7042    Male               0     Yes        Yes      63            No  ...   \n",
       "\n",
       "     tech_support streaming_tv streaming_movies paperless_billing  \\\n",
       "0             Yes          Yes               No               Yes   \n",
       "1              No           No              Yes                No   \n",
       "2              No           No               No               Yes   \n",
       "3              No          Yes              Yes               Yes   \n",
       "4             Yes          Yes               No               Yes   \n",
       "...           ...          ...              ...               ...   \n",
       "7038          Yes           No               No                No   \n",
       "7039           No           No              Yes               Yes   \n",
       "7040           No           No               No               Yes   \n",
       "7041          Yes           No              Yes                No   \n",
       "7042           No          Yes              Yes                No   \n",
       "\n",
       "     monthly_charges total_charges churn   contract_type  \\\n",
       "0              65.60         593.3    No        One year   \n",
       "1              59.90         542.4    No  Month-to-month   \n",
       "2              73.90        280.85   Yes  Month-to-month   \n",
       "3              98.00       1237.85   Yes  Month-to-month   \n",
       "4              83.90         267.4   Yes  Month-to-month   \n",
       "...              ...           ...   ...             ...   \n",
       "7038           55.15         742.9    No        One year   \n",
       "7039           85.10        1873.7   Yes  Month-to-month   \n",
       "7040           50.30         92.75    No  Month-to-month   \n",
       "7041           67.85       4627.65    No        Two year   \n",
       "7042           59.00        3707.6    No        Two year   \n",
       "\n",
       "      internet_service_type      payment_type  \n",
       "0                       DSL      Mailed check  \n",
       "1                       DSL      Mailed check  \n",
       "2               Fiber optic  Electronic check  \n",
       "3               Fiber optic  Electronic check  \n",
       "4               Fiber optic      Mailed check  \n",
       "...                     ...               ...  \n",
       "7038                    DSL      Mailed check  \n",
       "7039            Fiber optic  Electronic check  \n",
       "7040                    DSL      Mailed check  \n",
       "7041                    DSL      Mailed check  \n",
       "7042                    DSL  Electronic check  \n",
       "\n",
       "[7043 rows x 24 columns]"
      ]
     },
     "execution_count": 39,
     "metadata": {},
     "output_type": "execute_result"
    }
   ],
   "source": [
    "df_telco"
   ]
  },
  {
   "cell_type": "code",
   "execution_count": 40,
   "id": "3b5eba7c-96dc-4b4d-b2fa-21b398ceeb6a",
   "metadata": {
    "tags": []
   },
   "outputs": [],
   "source": [
    "df_clean = prepare.prep_telco(df_telco)"
   ]
  },
  {
   "cell_type": "code",
   "execution_count": 41,
   "id": "ae9f3bff-7f79-48a0-8d77-f0fb0836920d",
   "metadata": {
    "tags": []
   },
   "outputs": [
    {
     "data": {
      "text/html": [
       "<div>\n",
       "<style scoped>\n",
       "    .dataframe tbody tr th:only-of-type {\n",
       "        vertical-align: middle;\n",
       "    }\n",
       "\n",
       "    .dataframe tbody tr th {\n",
       "        vertical-align: top;\n",
       "    }\n",
       "\n",
       "    .dataframe thead th {\n",
       "        text-align: right;\n",
       "    }\n",
       "</style>\n",
       "<table border=\"1\" class=\"dataframe\">\n",
       "  <thead>\n",
       "    <tr style=\"text-align: right;\">\n",
       "      <th></th>\n",
       "      <th>customer_id</th>\n",
       "      <th>senior_citizen</th>\n",
       "      <th>tenure</th>\n",
       "      <th>monthly_charges</th>\n",
       "      <th>total_charges</th>\n",
       "      <th>online_security_No internet service</th>\n",
       "      <th>online_security_Yes</th>\n",
       "      <th>online_backup_No internet service</th>\n",
       "      <th>online_backup_Yes</th>\n",
       "      <th>device_protection_No internet service</th>\n",
       "      <th>...</th>\n",
       "      <th>tech_support_No internet service</th>\n",
       "      <th>tech_support_Yes</th>\n",
       "      <th>churn_Yes</th>\n",
       "      <th>contract_type_One year</th>\n",
       "      <th>contract_type_Two year</th>\n",
       "      <th>internet_service_type_Fiber optic</th>\n",
       "      <th>internet_service_type_None</th>\n",
       "      <th>payment_type_Credit card (automatic)</th>\n",
       "      <th>payment_type_Electronic check</th>\n",
       "      <th>payment_type_Mailed check</th>\n",
       "    </tr>\n",
       "  </thead>\n",
       "  <tbody>\n",
       "    <tr>\n",
       "      <th>0</th>\n",
       "      <td>0002-ORFBO</td>\n",
       "      <td>0</td>\n",
       "      <td>9</td>\n",
       "      <td>65.60</td>\n",
       "      <td>593.30</td>\n",
       "      <td>0</td>\n",
       "      <td>0</td>\n",
       "      <td>0</td>\n",
       "      <td>1</td>\n",
       "      <td>0</td>\n",
       "      <td>...</td>\n",
       "      <td>0</td>\n",
       "      <td>1</td>\n",
       "      <td>0</td>\n",
       "      <td>1</td>\n",
       "      <td>0</td>\n",
       "      <td>0</td>\n",
       "      <td>0</td>\n",
       "      <td>0</td>\n",
       "      <td>0</td>\n",
       "      <td>1</td>\n",
       "    </tr>\n",
       "    <tr>\n",
       "      <th>1</th>\n",
       "      <td>0003-MKNFE</td>\n",
       "      <td>0</td>\n",
       "      <td>9</td>\n",
       "      <td>59.90</td>\n",
       "      <td>542.40</td>\n",
       "      <td>0</td>\n",
       "      <td>0</td>\n",
       "      <td>0</td>\n",
       "      <td>0</td>\n",
       "      <td>0</td>\n",
       "      <td>...</td>\n",
       "      <td>0</td>\n",
       "      <td>0</td>\n",
       "      <td>0</td>\n",
       "      <td>0</td>\n",
       "      <td>0</td>\n",
       "      <td>0</td>\n",
       "      <td>0</td>\n",
       "      <td>0</td>\n",
       "      <td>0</td>\n",
       "      <td>1</td>\n",
       "    </tr>\n",
       "    <tr>\n",
       "      <th>2</th>\n",
       "      <td>0004-TLHLJ</td>\n",
       "      <td>0</td>\n",
       "      <td>4</td>\n",
       "      <td>73.90</td>\n",
       "      <td>280.85</td>\n",
       "      <td>0</td>\n",
       "      <td>0</td>\n",
       "      <td>0</td>\n",
       "      <td>0</td>\n",
       "      <td>0</td>\n",
       "      <td>...</td>\n",
       "      <td>0</td>\n",
       "      <td>0</td>\n",
       "      <td>1</td>\n",
       "      <td>0</td>\n",
       "      <td>0</td>\n",
       "      <td>1</td>\n",
       "      <td>0</td>\n",
       "      <td>0</td>\n",
       "      <td>1</td>\n",
       "      <td>0</td>\n",
       "    </tr>\n",
       "    <tr>\n",
       "      <th>3</th>\n",
       "      <td>0011-IGKFF</td>\n",
       "      <td>1</td>\n",
       "      <td>13</td>\n",
       "      <td>98.00</td>\n",
       "      <td>1237.85</td>\n",
       "      <td>0</td>\n",
       "      <td>0</td>\n",
       "      <td>0</td>\n",
       "      <td>1</td>\n",
       "      <td>0</td>\n",
       "      <td>...</td>\n",
       "      <td>0</td>\n",
       "      <td>0</td>\n",
       "      <td>1</td>\n",
       "      <td>0</td>\n",
       "      <td>0</td>\n",
       "      <td>1</td>\n",
       "      <td>0</td>\n",
       "      <td>0</td>\n",
       "      <td>1</td>\n",
       "      <td>0</td>\n",
       "    </tr>\n",
       "    <tr>\n",
       "      <th>4</th>\n",
       "      <td>0013-EXCHZ</td>\n",
       "      <td>1</td>\n",
       "      <td>3</td>\n",
       "      <td>83.90</td>\n",
       "      <td>267.40</td>\n",
       "      <td>0</td>\n",
       "      <td>0</td>\n",
       "      <td>0</td>\n",
       "      <td>0</td>\n",
       "      <td>0</td>\n",
       "      <td>...</td>\n",
       "      <td>0</td>\n",
       "      <td>1</td>\n",
       "      <td>1</td>\n",
       "      <td>0</td>\n",
       "      <td>0</td>\n",
       "      <td>1</td>\n",
       "      <td>0</td>\n",
       "      <td>0</td>\n",
       "      <td>0</td>\n",
       "      <td>1</td>\n",
       "    </tr>\n",
       "    <tr>\n",
       "      <th>...</th>\n",
       "      <td>...</td>\n",
       "      <td>...</td>\n",
       "      <td>...</td>\n",
       "      <td>...</td>\n",
       "      <td>...</td>\n",
       "      <td>...</td>\n",
       "      <td>...</td>\n",
       "      <td>...</td>\n",
       "      <td>...</td>\n",
       "      <td>...</td>\n",
       "      <td>...</td>\n",
       "      <td>...</td>\n",
       "      <td>...</td>\n",
       "      <td>...</td>\n",
       "      <td>...</td>\n",
       "      <td>...</td>\n",
       "      <td>...</td>\n",
       "      <td>...</td>\n",
       "      <td>...</td>\n",
       "      <td>...</td>\n",
       "      <td>...</td>\n",
       "    </tr>\n",
       "    <tr>\n",
       "      <th>7038</th>\n",
       "      <td>9987-LUTYD</td>\n",
       "      <td>0</td>\n",
       "      <td>13</td>\n",
       "      <td>55.15</td>\n",
       "      <td>742.90</td>\n",
       "      <td>0</td>\n",
       "      <td>1</td>\n",
       "      <td>0</td>\n",
       "      <td>0</td>\n",
       "      <td>0</td>\n",
       "      <td>...</td>\n",
       "      <td>0</td>\n",
       "      <td>1</td>\n",
       "      <td>0</td>\n",
       "      <td>1</td>\n",
       "      <td>0</td>\n",
       "      <td>0</td>\n",
       "      <td>0</td>\n",
       "      <td>0</td>\n",
       "      <td>0</td>\n",
       "      <td>1</td>\n",
       "    </tr>\n",
       "    <tr>\n",
       "      <th>7039</th>\n",
       "      <td>9992-RRAMN</td>\n",
       "      <td>0</td>\n",
       "      <td>22</td>\n",
       "      <td>85.10</td>\n",
       "      <td>1873.70</td>\n",
       "      <td>0</td>\n",
       "      <td>0</td>\n",
       "      <td>0</td>\n",
       "      <td>0</td>\n",
       "      <td>0</td>\n",
       "      <td>...</td>\n",
       "      <td>0</td>\n",
       "      <td>0</td>\n",
       "      <td>1</td>\n",
       "      <td>0</td>\n",
       "      <td>0</td>\n",
       "      <td>1</td>\n",
       "      <td>0</td>\n",
       "      <td>0</td>\n",
       "      <td>1</td>\n",
       "      <td>0</td>\n",
       "    </tr>\n",
       "    <tr>\n",
       "      <th>7040</th>\n",
       "      <td>9992-UJOEL</td>\n",
       "      <td>0</td>\n",
       "      <td>2</td>\n",
       "      <td>50.30</td>\n",
       "      <td>92.75</td>\n",
       "      <td>0</td>\n",
       "      <td>0</td>\n",
       "      <td>0</td>\n",
       "      <td>1</td>\n",
       "      <td>0</td>\n",
       "      <td>...</td>\n",
       "      <td>0</td>\n",
       "      <td>0</td>\n",
       "      <td>0</td>\n",
       "      <td>0</td>\n",
       "      <td>0</td>\n",
       "      <td>0</td>\n",
       "      <td>0</td>\n",
       "      <td>0</td>\n",
       "      <td>0</td>\n",
       "      <td>1</td>\n",
       "    </tr>\n",
       "    <tr>\n",
       "      <th>7041</th>\n",
       "      <td>9993-LHIEB</td>\n",
       "      <td>0</td>\n",
       "      <td>67</td>\n",
       "      <td>67.85</td>\n",
       "      <td>4627.65</td>\n",
       "      <td>0</td>\n",
       "      <td>1</td>\n",
       "      <td>0</td>\n",
       "      <td>0</td>\n",
       "      <td>0</td>\n",
       "      <td>...</td>\n",
       "      <td>0</td>\n",
       "      <td>1</td>\n",
       "      <td>0</td>\n",
       "      <td>0</td>\n",
       "      <td>1</td>\n",
       "      <td>0</td>\n",
       "      <td>0</td>\n",
       "      <td>0</td>\n",
       "      <td>0</td>\n",
       "      <td>1</td>\n",
       "    </tr>\n",
       "    <tr>\n",
       "      <th>7042</th>\n",
       "      <td>9995-HOTOH</td>\n",
       "      <td>0</td>\n",
       "      <td>63</td>\n",
       "      <td>59.00</td>\n",
       "      <td>3707.60</td>\n",
       "      <td>0</td>\n",
       "      <td>1</td>\n",
       "      <td>0</td>\n",
       "      <td>1</td>\n",
       "      <td>0</td>\n",
       "      <td>...</td>\n",
       "      <td>0</td>\n",
       "      <td>0</td>\n",
       "      <td>0</td>\n",
       "      <td>0</td>\n",
       "      <td>1</td>\n",
       "      <td>0</td>\n",
       "      <td>0</td>\n",
       "      <td>0</td>\n",
       "      <td>1</td>\n",
       "      <td>0</td>\n",
       "    </tr>\n",
       "  </tbody>\n",
       "</table>\n",
       "<p>7043 rows × 21 columns</p>\n",
       "</div>"
      ],
      "text/plain": [
       "     customer_id  senior_citizen  tenure  monthly_charges  total_charges  \\\n",
       "0     0002-ORFBO               0       9            65.60         593.30   \n",
       "1     0003-MKNFE               0       9            59.90         542.40   \n",
       "2     0004-TLHLJ               0       4            73.90         280.85   \n",
       "3     0011-IGKFF               1      13            98.00        1237.85   \n",
       "4     0013-EXCHZ               1       3            83.90         267.40   \n",
       "...          ...             ...     ...              ...            ...   \n",
       "7038  9987-LUTYD               0      13            55.15         742.90   \n",
       "7039  9992-RRAMN               0      22            85.10        1873.70   \n",
       "7040  9992-UJOEL               0       2            50.30          92.75   \n",
       "7041  9993-LHIEB               0      67            67.85        4627.65   \n",
       "7042  9995-HOTOH               0      63            59.00        3707.60   \n",
       "\n",
       "      online_security_No internet service  online_security_Yes  \\\n",
       "0                                       0                    0   \n",
       "1                                       0                    0   \n",
       "2                                       0                    0   \n",
       "3                                       0                    0   \n",
       "4                                       0                    0   \n",
       "...                                   ...                  ...   \n",
       "7038                                    0                    1   \n",
       "7039                                    0                    0   \n",
       "7040                                    0                    0   \n",
       "7041                                    0                    1   \n",
       "7042                                    0                    1   \n",
       "\n",
       "      online_backup_No internet service  online_backup_Yes  \\\n",
       "0                                     0                  1   \n",
       "1                                     0                  0   \n",
       "2                                     0                  0   \n",
       "3                                     0                  1   \n",
       "4                                     0                  0   \n",
       "...                                 ...                ...   \n",
       "7038                                  0                  0   \n",
       "7039                                  0                  0   \n",
       "7040                                  0                  1   \n",
       "7041                                  0                  0   \n",
       "7042                                  0                  1   \n",
       "\n",
       "      device_protection_No internet service  ...  \\\n",
       "0                                         0  ...   \n",
       "1                                         0  ...   \n",
       "2                                         0  ...   \n",
       "3                                         0  ...   \n",
       "4                                         0  ...   \n",
       "...                                     ...  ...   \n",
       "7038                                      0  ...   \n",
       "7039                                      0  ...   \n",
       "7040                                      0  ...   \n",
       "7041                                      0  ...   \n",
       "7042                                      0  ...   \n",
       "\n",
       "      tech_support_No internet service  tech_support_Yes  churn_Yes  \\\n",
       "0                                    0                 1          0   \n",
       "1                                    0                 0          0   \n",
       "2                                    0                 0          1   \n",
       "3                                    0                 0          1   \n",
       "4                                    0                 1          1   \n",
       "...                                ...               ...        ...   \n",
       "7038                                 0                 1          0   \n",
       "7039                                 0                 0          1   \n",
       "7040                                 0                 0          0   \n",
       "7041                                 0                 1          0   \n",
       "7042                                 0                 0          0   \n",
       "\n",
       "      contract_type_One year  contract_type_Two year  \\\n",
       "0                          1                       0   \n",
       "1                          0                       0   \n",
       "2                          0                       0   \n",
       "3                          0                       0   \n",
       "4                          0                       0   \n",
       "...                      ...                     ...   \n",
       "7038                       1                       0   \n",
       "7039                       0                       0   \n",
       "7040                       0                       0   \n",
       "7041                       0                       1   \n",
       "7042                       0                       1   \n",
       "\n",
       "      internet_service_type_Fiber optic  internet_service_type_None  \\\n",
       "0                                     0                           0   \n",
       "1                                     0                           0   \n",
       "2                                     1                           0   \n",
       "3                                     1                           0   \n",
       "4                                     1                           0   \n",
       "...                                 ...                         ...   \n",
       "7038                                  0                           0   \n",
       "7039                                  1                           0   \n",
       "7040                                  0                           0   \n",
       "7041                                  0                           0   \n",
       "7042                                  0                           0   \n",
       "\n",
       "      payment_type_Credit card (automatic)  payment_type_Electronic check  \\\n",
       "0                                        0                              0   \n",
       "1                                        0                              0   \n",
       "2                                        0                              1   \n",
       "3                                        0                              1   \n",
       "4                                        0                              0   \n",
       "...                                    ...                            ...   \n",
       "7038                                     0                              0   \n",
       "7039                                     0                              1   \n",
       "7040                                     0                              0   \n",
       "7041                                     0                              0   \n",
       "7042                                     0                              1   \n",
       "\n",
       "      payment_type_Mailed check  \n",
       "0                             1  \n",
       "1                             1  \n",
       "2                             0  \n",
       "3                             0  \n",
       "4                             1  \n",
       "...                         ...  \n",
       "7038                          1  \n",
       "7039                          0  \n",
       "7040                          1  \n",
       "7041                          1  \n",
       "7042                          0  \n",
       "\n",
       "[7043 rows x 21 columns]"
      ]
     },
     "execution_count": 41,
     "metadata": {},
     "output_type": "execute_result"
    }
   ],
   "source": [
    "df_clean"
   ]
  },
  {
   "cell_type": "code",
   "execution_count": 42,
   "id": "977eff90-0b1e-4151-bdc9-0cffdbe0f71d",
   "metadata": {
    "tags": []
   },
   "outputs": [
    {
     "name": "stdout",
     "output_type": "stream",
     "text": [
      "Train: 0.5598466562544371\n",
      "Validate: 0.24009654976572484\n",
      "Test: 0.20005679397983814\n"
     ]
    }
   ],
   "source": [
    "train, validate, test = prepare.split_telco_data(df_clean, 'churn_Yes')\n"
   ]
  },
  {
   "cell_type": "code",
   "execution_count": 43,
   "id": "deb470e9-ea52-438f-a003-1d4d6fbe90cf",
   "metadata": {
    "tags": []
   },
   "outputs": [
    {
     "data": {
      "text/html": [
       "<div>\n",
       "<style scoped>\n",
       "    .dataframe tbody tr th:only-of-type {\n",
       "        vertical-align: middle;\n",
       "    }\n",
       "\n",
       "    .dataframe tbody tr th {\n",
       "        vertical-align: top;\n",
       "    }\n",
       "\n",
       "    .dataframe thead th {\n",
       "        text-align: right;\n",
       "    }\n",
       "</style>\n",
       "<table border=\"1\" class=\"dataframe\">\n",
       "  <thead>\n",
       "    <tr style=\"text-align: right;\">\n",
       "      <th></th>\n",
       "      <th>customer_id</th>\n",
       "      <th>senior_citizen</th>\n",
       "      <th>tenure</th>\n",
       "      <th>monthly_charges</th>\n",
       "      <th>total_charges</th>\n",
       "      <th>online_security_No internet service</th>\n",
       "      <th>online_security_Yes</th>\n",
       "      <th>online_backup_No internet service</th>\n",
       "      <th>online_backup_Yes</th>\n",
       "      <th>device_protection_No internet service</th>\n",
       "      <th>...</th>\n",
       "      <th>tech_support_No internet service</th>\n",
       "      <th>tech_support_Yes</th>\n",
       "      <th>churn_Yes</th>\n",
       "      <th>contract_type_One year</th>\n",
       "      <th>contract_type_Two year</th>\n",
       "      <th>internet_service_type_Fiber optic</th>\n",
       "      <th>internet_service_type_None</th>\n",
       "      <th>payment_type_Credit card (automatic)</th>\n",
       "      <th>payment_type_Electronic check</th>\n",
       "      <th>payment_type_Mailed check</th>\n",
       "    </tr>\n",
       "  </thead>\n",
       "  <tbody>\n",
       "    <tr>\n",
       "      <th>4630</th>\n",
       "      <td>6527-PZFPV</td>\n",
       "      <td>0</td>\n",
       "      <td>24</td>\n",
       "      <td>20.80</td>\n",
       "      <td>469.65</td>\n",
       "      <td>1</td>\n",
       "      <td>0</td>\n",
       "      <td>1</td>\n",
       "      <td>0</td>\n",
       "      <td>1</td>\n",
       "      <td>...</td>\n",
       "      <td>1</td>\n",
       "      <td>0</td>\n",
       "      <td>0</td>\n",
       "      <td>1</td>\n",
       "      <td>0</td>\n",
       "      <td>0</td>\n",
       "      <td>1</td>\n",
       "      <td>1</td>\n",
       "      <td>0</td>\n",
       "      <td>0</td>\n",
       "    </tr>\n",
       "    <tr>\n",
       "      <th>1566</th>\n",
       "      <td>2277-AXSDC</td>\n",
       "      <td>0</td>\n",
       "      <td>32</td>\n",
       "      <td>19.75</td>\n",
       "      <td>624.15</td>\n",
       "      <td>1</td>\n",
       "      <td>0</td>\n",
       "      <td>1</td>\n",
       "      <td>0</td>\n",
       "      <td>1</td>\n",
       "      <td>...</td>\n",
       "      <td>1</td>\n",
       "      <td>0</td>\n",
       "      <td>0</td>\n",
       "      <td>1</td>\n",
       "      <td>0</td>\n",
       "      <td>0</td>\n",
       "      <td>1</td>\n",
       "      <td>0</td>\n",
       "      <td>0</td>\n",
       "      <td>0</td>\n",
       "    </tr>\n",
       "    <tr>\n",
       "      <th>3294</th>\n",
       "      <td>4701-MLJPN</td>\n",
       "      <td>0</td>\n",
       "      <td>31</td>\n",
       "      <td>55.25</td>\n",
       "      <td>1715.65</td>\n",
       "      <td>0</td>\n",
       "      <td>0</td>\n",
       "      <td>0</td>\n",
       "      <td>0</td>\n",
       "      <td>0</td>\n",
       "      <td>...</td>\n",
       "      <td>0</td>\n",
       "      <td>1</td>\n",
       "      <td>1</td>\n",
       "      <td>0</td>\n",
       "      <td>0</td>\n",
       "      <td>0</td>\n",
       "      <td>0</td>\n",
       "      <td>0</td>\n",
       "      <td>1</td>\n",
       "      <td>0</td>\n",
       "    </tr>\n",
       "    <tr>\n",
       "      <th>120</th>\n",
       "      <td>0208-BPQEJ</td>\n",
       "      <td>0</td>\n",
       "      <td>12</td>\n",
       "      <td>19.40</td>\n",
       "      <td>198.10</td>\n",
       "      <td>1</td>\n",
       "      <td>0</td>\n",
       "      <td>1</td>\n",
       "      <td>0</td>\n",
       "      <td>1</td>\n",
       "      <td>...</td>\n",
       "      <td>1</td>\n",
       "      <td>0</td>\n",
       "      <td>0</td>\n",
       "      <td>0</td>\n",
       "      <td>0</td>\n",
       "      <td>0</td>\n",
       "      <td>1</td>\n",
       "      <td>0</td>\n",
       "      <td>0</td>\n",
       "      <td>0</td>\n",
       "    </tr>\n",
       "    <tr>\n",
       "      <th>2761</th>\n",
       "      <td>3932-CMDTD</td>\n",
       "      <td>0</td>\n",
       "      <td>4</td>\n",
       "      <td>105.65</td>\n",
       "      <td>443.90</td>\n",
       "      <td>0</td>\n",
       "      <td>0</td>\n",
       "      <td>0</td>\n",
       "      <td>1</td>\n",
       "      <td>0</td>\n",
       "      <td>...</td>\n",
       "      <td>0</td>\n",
       "      <td>1</td>\n",
       "      <td>1</td>\n",
       "      <td>1</td>\n",
       "      <td>0</td>\n",
       "      <td>1</td>\n",
       "      <td>0</td>\n",
       "      <td>0</td>\n",
       "      <td>1</td>\n",
       "      <td>0</td>\n",
       "    </tr>\n",
       "  </tbody>\n",
       "</table>\n",
       "<p>5 rows × 21 columns</p>\n",
       "</div>"
      ],
      "text/plain": [
       "     customer_id  senior_citizen  tenure  monthly_charges  total_charges  \\\n",
       "4630  6527-PZFPV               0      24            20.80         469.65   \n",
       "1566  2277-AXSDC               0      32            19.75         624.15   \n",
       "3294  4701-MLJPN               0      31            55.25        1715.65   \n",
       "120   0208-BPQEJ               0      12            19.40         198.10   \n",
       "2761  3932-CMDTD               0       4           105.65         443.90   \n",
       "\n",
       "      online_security_No internet service  online_security_Yes  \\\n",
       "4630                                    1                    0   \n",
       "1566                                    1                    0   \n",
       "3294                                    0                    0   \n",
       "120                                     1                    0   \n",
       "2761                                    0                    0   \n",
       "\n",
       "      online_backup_No internet service  online_backup_Yes  \\\n",
       "4630                                  1                  0   \n",
       "1566                                  1                  0   \n",
       "3294                                  0                  0   \n",
       "120                                   1                  0   \n",
       "2761                                  0                  1   \n",
       "\n",
       "      device_protection_No internet service  ...  \\\n",
       "4630                                      1  ...   \n",
       "1566                                      1  ...   \n",
       "3294                                      0  ...   \n",
       "120                                       1  ...   \n",
       "2761                                      0  ...   \n",
       "\n",
       "      tech_support_No internet service  tech_support_Yes  churn_Yes  \\\n",
       "4630                                 1                 0          0   \n",
       "1566                                 1                 0          0   \n",
       "3294                                 0                 1          1   \n",
       "120                                  1                 0          0   \n",
       "2761                                 0                 1          1   \n",
       "\n",
       "      contract_type_One year  contract_type_Two year  \\\n",
       "4630                       1                       0   \n",
       "1566                       1                       0   \n",
       "3294                       0                       0   \n",
       "120                        0                       0   \n",
       "2761                       1                       0   \n",
       "\n",
       "      internet_service_type_Fiber optic  internet_service_type_None  \\\n",
       "4630                                  0                           1   \n",
       "1566                                  0                           1   \n",
       "3294                                  0                           0   \n",
       "120                                   0                           1   \n",
       "2761                                  1                           0   \n",
       "\n",
       "      payment_type_Credit card (automatic)  payment_type_Electronic check  \\\n",
       "4630                                     1                              0   \n",
       "1566                                     0                              0   \n",
       "3294                                     0                              1   \n",
       "120                                      0                              0   \n",
       "2761                                     0                              1   \n",
       "\n",
       "      payment_type_Mailed check  \n",
       "4630                          0  \n",
       "1566                          0  \n",
       "3294                          0  \n",
       "120                           0  \n",
       "2761                          0  \n",
       "\n",
       "[5 rows x 21 columns]"
      ]
     },
     "execution_count": 43,
     "metadata": {},
     "output_type": "execute_result"
    }
   ],
   "source": [
    "train.head()"
   ]
  },
  {
   "cell_type": "markdown",
   "id": "27fea8b5-1a4d-48f9-bd62-b174f1680d91",
   "metadata": {},
   "source": [
    "# Modeling part"
   ]
  },
  {
   "cell_type": "code",
   "execution_count": 44,
   "id": "6e6acc5a-b55f-43d1-9441-b81fb607cb25",
   "metadata": {
    "tags": []
   },
   "outputs": [
    {
     "data": {
      "text/plain": [
       "0    2897\n",
       "1    1046\n",
       "Name: churn_Yes, dtype: int64"
      ]
     },
     "execution_count": 44,
     "metadata": {},
     "output_type": "execute_result"
    }
   ],
   "source": [
    "train['churn_Yes'].value_counts()"
   ]
  },
  {
   "cell_type": "code",
   "execution_count": 45,
   "id": "62eb21c9-41dc-470e-97fc-f103934d1e46",
   "metadata": {
    "tags": []
   },
   "outputs": [
    {
     "data": {
      "text/plain": [
       "0.7347197565305605"
      ]
     },
     "execution_count": 45,
     "metadata": {},
     "output_type": "execute_result"
    }
   ],
   "source": [
    "# setting a basline accuracy \n",
    "baseline_accuracy = (train['churn_Yes'] == 0).mean()\n",
    "baseline_accuracy"
   ]
  },
  {
   "cell_type": "code",
   "execution_count": 46,
   "id": "31e85dde-9d82-46c3-9ed0-09ae8de1a547",
   "metadata": {
    "tags": []
   },
   "outputs": [
    {
     "data": {
      "text/html": [
       "<div>\n",
       "<style scoped>\n",
       "    .dataframe tbody tr th:only-of-type {\n",
       "        vertical-align: middle;\n",
       "    }\n",
       "\n",
       "    .dataframe tbody tr th {\n",
       "        vertical-align: top;\n",
       "    }\n",
       "\n",
       "    .dataframe thead th {\n",
       "        text-align: right;\n",
       "    }\n",
       "</style>\n",
       "<table border=\"1\" class=\"dataframe\">\n",
       "  <thead>\n",
       "    <tr style=\"text-align: right;\">\n",
       "      <th></th>\n",
       "      <th>tenure</th>\n",
       "      <th>monthly_charges</th>\n",
       "      <th>total_charges</th>\n",
       "      <th>online_security_No internet service</th>\n",
       "      <th>online_security_Yes</th>\n",
       "      <th>online_backup_No internet service</th>\n",
       "      <th>online_backup_Yes</th>\n",
       "      <th>device_protection_No internet service</th>\n",
       "      <th>device_protection_Yes</th>\n",
       "      <th>tech_support_No internet service</th>\n",
       "      <th>tech_support_Yes</th>\n",
       "      <th>contract_type_One year</th>\n",
       "      <th>contract_type_Two year</th>\n",
       "      <th>internet_service_type_Fiber optic</th>\n",
       "      <th>internet_service_type_None</th>\n",
       "      <th>payment_type_Credit card (automatic)</th>\n",
       "      <th>payment_type_Electronic check</th>\n",
       "      <th>payment_type_Mailed check</th>\n",
       "    </tr>\n",
       "  </thead>\n",
       "  <tbody>\n",
       "    <tr>\n",
       "      <th>4630</th>\n",
       "      <td>24</td>\n",
       "      <td>20.80</td>\n",
       "      <td>469.65</td>\n",
       "      <td>1</td>\n",
       "      <td>0</td>\n",
       "      <td>1</td>\n",
       "      <td>0</td>\n",
       "      <td>1</td>\n",
       "      <td>0</td>\n",
       "      <td>1</td>\n",
       "      <td>0</td>\n",
       "      <td>1</td>\n",
       "      <td>0</td>\n",
       "      <td>0</td>\n",
       "      <td>1</td>\n",
       "      <td>1</td>\n",
       "      <td>0</td>\n",
       "      <td>0</td>\n",
       "    </tr>\n",
       "    <tr>\n",
       "      <th>1566</th>\n",
       "      <td>32</td>\n",
       "      <td>19.75</td>\n",
       "      <td>624.15</td>\n",
       "      <td>1</td>\n",
       "      <td>0</td>\n",
       "      <td>1</td>\n",
       "      <td>0</td>\n",
       "      <td>1</td>\n",
       "      <td>0</td>\n",
       "      <td>1</td>\n",
       "      <td>0</td>\n",
       "      <td>1</td>\n",
       "      <td>0</td>\n",
       "      <td>0</td>\n",
       "      <td>1</td>\n",
       "      <td>0</td>\n",
       "      <td>0</td>\n",
       "      <td>0</td>\n",
       "    </tr>\n",
       "    <tr>\n",
       "      <th>3294</th>\n",
       "      <td>31</td>\n",
       "      <td>55.25</td>\n",
       "      <td>1715.65</td>\n",
       "      <td>0</td>\n",
       "      <td>0</td>\n",
       "      <td>0</td>\n",
       "      <td>0</td>\n",
       "      <td>0</td>\n",
       "      <td>1</td>\n",
       "      <td>0</td>\n",
       "      <td>1</td>\n",
       "      <td>0</td>\n",
       "      <td>0</td>\n",
       "      <td>0</td>\n",
       "      <td>0</td>\n",
       "      <td>0</td>\n",
       "      <td>1</td>\n",
       "      <td>0</td>\n",
       "    </tr>\n",
       "    <tr>\n",
       "      <th>120</th>\n",
       "      <td>12</td>\n",
       "      <td>19.40</td>\n",
       "      <td>198.10</td>\n",
       "      <td>1</td>\n",
       "      <td>0</td>\n",
       "      <td>1</td>\n",
       "      <td>0</td>\n",
       "      <td>1</td>\n",
       "      <td>0</td>\n",
       "      <td>1</td>\n",
       "      <td>0</td>\n",
       "      <td>0</td>\n",
       "      <td>0</td>\n",
       "      <td>0</td>\n",
       "      <td>1</td>\n",
       "      <td>0</td>\n",
       "      <td>0</td>\n",
       "      <td>0</td>\n",
       "    </tr>\n",
       "    <tr>\n",
       "      <th>2761</th>\n",
       "      <td>4</td>\n",
       "      <td>105.65</td>\n",
       "      <td>443.90</td>\n",
       "      <td>0</td>\n",
       "      <td>0</td>\n",
       "      <td>0</td>\n",
       "      <td>1</td>\n",
       "      <td>0</td>\n",
       "      <td>1</td>\n",
       "      <td>0</td>\n",
       "      <td>1</td>\n",
       "      <td>1</td>\n",
       "      <td>0</td>\n",
       "      <td>1</td>\n",
       "      <td>0</td>\n",
       "      <td>0</td>\n",
       "      <td>1</td>\n",
       "      <td>0</td>\n",
       "    </tr>\n",
       "    <tr>\n",
       "      <th>...</th>\n",
       "      <td>...</td>\n",
       "      <td>...</td>\n",
       "      <td>...</td>\n",
       "      <td>...</td>\n",
       "      <td>...</td>\n",
       "      <td>...</td>\n",
       "      <td>...</td>\n",
       "      <td>...</td>\n",
       "      <td>...</td>\n",
       "      <td>...</td>\n",
       "      <td>...</td>\n",
       "      <td>...</td>\n",
       "      <td>...</td>\n",
       "      <td>...</td>\n",
       "      <td>...</td>\n",
       "      <td>...</td>\n",
       "      <td>...</td>\n",
       "      <td>...</td>\n",
       "    </tr>\n",
       "    <tr>\n",
       "      <th>2085</th>\n",
       "      <td>72</td>\n",
       "      <td>92.00</td>\n",
       "      <td>6632.75</td>\n",
       "      <td>0</td>\n",
       "      <td>1</td>\n",
       "      <td>0</td>\n",
       "      <td>1</td>\n",
       "      <td>0</td>\n",
       "      <td>1</td>\n",
       "      <td>0</td>\n",
       "      <td>1</td>\n",
       "      <td>0</td>\n",
       "      <td>1</td>\n",
       "      <td>0</td>\n",
       "      <td>0</td>\n",
       "      <td>0</td>\n",
       "      <td>0</td>\n",
       "      <td>0</td>\n",
       "    </tr>\n",
       "    <tr>\n",
       "      <th>4687</th>\n",
       "      <td>71</td>\n",
       "      <td>58.65</td>\n",
       "      <td>4145.25</td>\n",
       "      <td>0</td>\n",
       "      <td>1</td>\n",
       "      <td>0</td>\n",
       "      <td>1</td>\n",
       "      <td>0</td>\n",
       "      <td>0</td>\n",
       "      <td>0</td>\n",
       "      <td>1</td>\n",
       "      <td>0</td>\n",
       "      <td>1</td>\n",
       "      <td>0</td>\n",
       "      <td>0</td>\n",
       "      <td>0</td>\n",
       "      <td>0</td>\n",
       "      <td>1</td>\n",
       "    </tr>\n",
       "    <tr>\n",
       "      <th>1521</th>\n",
       "      <td>1</td>\n",
       "      <td>55.20</td>\n",
       "      <td>55.20</td>\n",
       "      <td>0</td>\n",
       "      <td>0</td>\n",
       "      <td>0</td>\n",
       "      <td>0</td>\n",
       "      <td>0</td>\n",
       "      <td>0</td>\n",
       "      <td>0</td>\n",
       "      <td>0</td>\n",
       "      <td>0</td>\n",
       "      <td>0</td>\n",
       "      <td>0</td>\n",
       "      <td>0</td>\n",
       "      <td>0</td>\n",
       "      <td>0</td>\n",
       "      <td>1</td>\n",
       "    </tr>\n",
       "    <tr>\n",
       "      <th>6552</th>\n",
       "      <td>3</td>\n",
       "      <td>74.25</td>\n",
       "      <td>210.30</td>\n",
       "      <td>0</td>\n",
       "      <td>0</td>\n",
       "      <td>0</td>\n",
       "      <td>0</td>\n",
       "      <td>0</td>\n",
       "      <td>0</td>\n",
       "      <td>0</td>\n",
       "      <td>0</td>\n",
       "      <td>0</td>\n",
       "      <td>0</td>\n",
       "      <td>1</td>\n",
       "      <td>0</td>\n",
       "      <td>0</td>\n",
       "      <td>1</td>\n",
       "      <td>0</td>\n",
       "    </tr>\n",
       "    <tr>\n",
       "      <th>741</th>\n",
       "      <td>11</td>\n",
       "      <td>54.55</td>\n",
       "      <td>601.25</td>\n",
       "      <td>0</td>\n",
       "      <td>0</td>\n",
       "      <td>0</td>\n",
       "      <td>1</td>\n",
       "      <td>0</td>\n",
       "      <td>0</td>\n",
       "      <td>0</td>\n",
       "      <td>1</td>\n",
       "      <td>0</td>\n",
       "      <td>0</td>\n",
       "      <td>0</td>\n",
       "      <td>0</td>\n",
       "      <td>0</td>\n",
       "      <td>1</td>\n",
       "      <td>0</td>\n",
       "    </tr>\n",
       "  </tbody>\n",
       "</table>\n",
       "<p>3943 rows × 18 columns</p>\n",
       "</div>"
      ],
      "text/plain": [
       "      tenure  monthly_charges  total_charges  \\\n",
       "4630      24            20.80         469.65   \n",
       "1566      32            19.75         624.15   \n",
       "3294      31            55.25        1715.65   \n",
       "120       12            19.40         198.10   \n",
       "2761       4           105.65         443.90   \n",
       "...      ...              ...            ...   \n",
       "2085      72            92.00        6632.75   \n",
       "4687      71            58.65        4145.25   \n",
       "1521       1            55.20          55.20   \n",
       "6552       3            74.25         210.30   \n",
       "741       11            54.55         601.25   \n",
       "\n",
       "      online_security_No internet service  online_security_Yes  \\\n",
       "4630                                    1                    0   \n",
       "1566                                    1                    0   \n",
       "3294                                    0                    0   \n",
       "120                                     1                    0   \n",
       "2761                                    0                    0   \n",
       "...                                   ...                  ...   \n",
       "2085                                    0                    1   \n",
       "4687                                    0                    1   \n",
       "1521                                    0                    0   \n",
       "6552                                    0                    0   \n",
       "741                                     0                    0   \n",
       "\n",
       "      online_backup_No internet service  online_backup_Yes  \\\n",
       "4630                                  1                  0   \n",
       "1566                                  1                  0   \n",
       "3294                                  0                  0   \n",
       "120                                   1                  0   \n",
       "2761                                  0                  1   \n",
       "...                                 ...                ...   \n",
       "2085                                  0                  1   \n",
       "4687                                  0                  1   \n",
       "1521                                  0                  0   \n",
       "6552                                  0                  0   \n",
       "741                                   0                  1   \n",
       "\n",
       "      device_protection_No internet service  device_protection_Yes  \\\n",
       "4630                                      1                      0   \n",
       "1566                                      1                      0   \n",
       "3294                                      0                      1   \n",
       "120                                       1                      0   \n",
       "2761                                      0                      1   \n",
       "...                                     ...                    ...   \n",
       "2085                                      0                      1   \n",
       "4687                                      0                      0   \n",
       "1521                                      0                      0   \n",
       "6552                                      0                      0   \n",
       "741                                       0                      0   \n",
       "\n",
       "      tech_support_No internet service  tech_support_Yes  \\\n",
       "4630                                 1                 0   \n",
       "1566                                 1                 0   \n",
       "3294                                 0                 1   \n",
       "120                                  1                 0   \n",
       "2761                                 0                 1   \n",
       "...                                ...               ...   \n",
       "2085                                 0                 1   \n",
       "4687                                 0                 1   \n",
       "1521                                 0                 0   \n",
       "6552                                 0                 0   \n",
       "741                                  0                 1   \n",
       "\n",
       "      contract_type_One year  contract_type_Two year  \\\n",
       "4630                       1                       0   \n",
       "1566                       1                       0   \n",
       "3294                       0                       0   \n",
       "120                        0                       0   \n",
       "2761                       1                       0   \n",
       "...                      ...                     ...   \n",
       "2085                       0                       1   \n",
       "4687                       0                       1   \n",
       "1521                       0                       0   \n",
       "6552                       0                       0   \n",
       "741                        0                       0   \n",
       "\n",
       "      internet_service_type_Fiber optic  internet_service_type_None  \\\n",
       "4630                                  0                           1   \n",
       "1566                                  0                           1   \n",
       "3294                                  0                           0   \n",
       "120                                   0                           1   \n",
       "2761                                  1                           0   \n",
       "...                                 ...                         ...   \n",
       "2085                                  0                           0   \n",
       "4687                                  0                           0   \n",
       "1521                                  0                           0   \n",
       "6552                                  1                           0   \n",
       "741                                   0                           0   \n",
       "\n",
       "      payment_type_Credit card (automatic)  payment_type_Electronic check  \\\n",
       "4630                                     1                              0   \n",
       "1566                                     0                              0   \n",
       "3294                                     0                              1   \n",
       "120                                      0                              0   \n",
       "2761                                     0                              1   \n",
       "...                                    ...                            ...   \n",
       "2085                                     0                              0   \n",
       "4687                                     0                              0   \n",
       "1521                                     0                              0   \n",
       "6552                                     0                              1   \n",
       "741                                      0                              1   \n",
       "\n",
       "      payment_type_Mailed check  \n",
       "4630                          0  \n",
       "1566                          0  \n",
       "3294                          0  \n",
       "120                           0  \n",
       "2761                          0  \n",
       "...                         ...  \n",
       "2085                          0  \n",
       "4687                          1  \n",
       "1521                          1  \n",
       "6552                          0  \n",
       "741                           0  \n",
       "\n",
       "[3943 rows x 18 columns]"
      ]
     },
     "execution_count": 46,
     "metadata": {},
     "output_type": "execute_result"
    }
   ],
   "source": [
    "# Split data into x and y sets\n",
    "X_train = train.drop(columns=['churn_Yes','customer_id', 'senior_citizen'])\n",
    "X_validate = validate.drop(columns=['churn_Yes','customer_id', 'senior_citizen'])\n",
    "X_test = test.drop(columns=['churn_Yes','customer_id', 'senior_citizen'])\n",
    "y_train = train['churn_Yes']\n",
    "y_validate = validate['churn_Yes'] \n",
    "y_test = test['churn_Yes']\n",
    "\n",
    "X_train"
   ]
  },
  {
   "cell_type": "markdown",
   "id": "1c074de4-86a9-4d18-8119-05ce6c26d995",
   "metadata": {},
   "source": [
    "## Starting with a depth of 4 to have something to check the For Loop on."
   ]
  },
  {
   "cell_type": "code",
   "execution_count": 47,
   "id": "b55e1ff2-c2b1-4f6e-a778-c8415fbc2017",
   "metadata": {
    "tags": []
   },
   "outputs": [
    {
     "data": {
      "text/html": [
       "<style>#sk-container-id-1 {color: black;}#sk-container-id-1 pre{padding: 0;}#sk-container-id-1 div.sk-toggleable {background-color: white;}#sk-container-id-1 label.sk-toggleable__label {cursor: pointer;display: block;width: 100%;margin-bottom: 0;padding: 0.3em;box-sizing: border-box;text-align: center;}#sk-container-id-1 label.sk-toggleable__label-arrow:before {content: \"▸\";float: left;margin-right: 0.25em;color: #696969;}#sk-container-id-1 label.sk-toggleable__label-arrow:hover:before {color: black;}#sk-container-id-1 div.sk-estimator:hover label.sk-toggleable__label-arrow:before {color: black;}#sk-container-id-1 div.sk-toggleable__content {max-height: 0;max-width: 0;overflow: hidden;text-align: left;background-color: #f0f8ff;}#sk-container-id-1 div.sk-toggleable__content pre {margin: 0.2em;color: black;border-radius: 0.25em;background-color: #f0f8ff;}#sk-container-id-1 input.sk-toggleable__control:checked~div.sk-toggleable__content {max-height: 200px;max-width: 100%;overflow: auto;}#sk-container-id-1 input.sk-toggleable__control:checked~label.sk-toggleable__label-arrow:before {content: \"▾\";}#sk-container-id-1 div.sk-estimator input.sk-toggleable__control:checked~label.sk-toggleable__label {background-color: #d4ebff;}#sk-container-id-1 div.sk-label input.sk-toggleable__control:checked~label.sk-toggleable__label {background-color: #d4ebff;}#sk-container-id-1 input.sk-hidden--visually {border: 0;clip: rect(1px 1px 1px 1px);clip: rect(1px, 1px, 1px, 1px);height: 1px;margin: -1px;overflow: hidden;padding: 0;position: absolute;width: 1px;}#sk-container-id-1 div.sk-estimator {font-family: monospace;background-color: #f0f8ff;border: 1px dotted black;border-radius: 0.25em;box-sizing: border-box;margin-bottom: 0.5em;}#sk-container-id-1 div.sk-estimator:hover {background-color: #d4ebff;}#sk-container-id-1 div.sk-parallel-item::after {content: \"\";width: 100%;border-bottom: 1px solid gray;flex-grow: 1;}#sk-container-id-1 div.sk-label:hover label.sk-toggleable__label {background-color: #d4ebff;}#sk-container-id-1 div.sk-serial::before {content: \"\";position: absolute;border-left: 1px solid gray;box-sizing: border-box;top: 0;bottom: 0;left: 50%;z-index: 0;}#sk-container-id-1 div.sk-serial {display: flex;flex-direction: column;align-items: center;background-color: white;padding-right: 0.2em;padding-left: 0.2em;position: relative;}#sk-container-id-1 div.sk-item {position: relative;z-index: 1;}#sk-container-id-1 div.sk-parallel {display: flex;align-items: stretch;justify-content: center;background-color: white;position: relative;}#sk-container-id-1 div.sk-item::before, #sk-container-id-1 div.sk-parallel-item::before {content: \"\";position: absolute;border-left: 1px solid gray;box-sizing: border-box;top: 0;bottom: 0;left: 50%;z-index: -1;}#sk-container-id-1 div.sk-parallel-item {display: flex;flex-direction: column;z-index: 1;position: relative;background-color: white;}#sk-container-id-1 div.sk-parallel-item:first-child::after {align-self: flex-end;width: 50%;}#sk-container-id-1 div.sk-parallel-item:last-child::after {align-self: flex-start;width: 50%;}#sk-container-id-1 div.sk-parallel-item:only-child::after {width: 0;}#sk-container-id-1 div.sk-dashed-wrapped {border: 1px dashed gray;margin: 0 0.4em 0.5em 0.4em;box-sizing: border-box;padding-bottom: 0.4em;background-color: white;}#sk-container-id-1 div.sk-label label {font-family: monospace;font-weight: bold;display: inline-block;line-height: 1.2em;}#sk-container-id-1 div.sk-label-container {text-align: center;}#sk-container-id-1 div.sk-container {/* jupyter's `normalize.less` sets `[hidden] { display: none; }` but bootstrap.min.css set `[hidden] { display: none !important; }` so we also need the `!important` here to be able to override the default hidden behavior on the sphinx rendered scikit-learn.org. See: https://github.com/scikit-learn/scikit-learn/issues/21755 */display: inline-block !important;position: relative;}#sk-container-id-1 div.sk-text-repr-fallback {display: none;}</style><div id=\"sk-container-id-1\" class=\"sk-top-container\"><div class=\"sk-text-repr-fallback\"><pre>DecisionTreeClassifier(max_depth=4, random_state=7)</pre><b>In a Jupyter environment, please rerun this cell to show the HTML representation or trust the notebook. <br />On GitHub, the HTML representation is unable to render, please try loading this page with nbviewer.org.</b></div><div class=\"sk-container\" hidden><div class=\"sk-item\"><div class=\"sk-estimator sk-toggleable\"><input class=\"sk-toggleable__control sk-hidden--visually\" id=\"sk-estimator-id-1\" type=\"checkbox\" checked><label for=\"sk-estimator-id-1\" class=\"sk-toggleable__label sk-toggleable__label-arrow\">DecisionTreeClassifier</label><div class=\"sk-toggleable__content\"><pre>DecisionTreeClassifier(max_depth=4, random_state=7)</pre></div></div></div></div></div>"
      ],
      "text/plain": [
       "DecisionTreeClassifier(max_depth=4, random_state=7)"
      ]
     },
     "execution_count": 47,
     "metadata": {},
     "output_type": "execute_result"
    }
   ],
   "source": [
    "tree = DecisionTreeClassifier(random_state=7, max_depth=4)\n",
    "tree"
   ]
  },
  {
   "cell_type": "code",
   "execution_count": 48,
   "id": "44b998ad-dfe5-4c65-8c41-b9f70d35c3a2",
   "metadata": {
    "tags": []
   },
   "outputs": [
    {
     "data": {
      "text/html": [
       "<style>#sk-container-id-2 {color: black;}#sk-container-id-2 pre{padding: 0;}#sk-container-id-2 div.sk-toggleable {background-color: white;}#sk-container-id-2 label.sk-toggleable__label {cursor: pointer;display: block;width: 100%;margin-bottom: 0;padding: 0.3em;box-sizing: border-box;text-align: center;}#sk-container-id-2 label.sk-toggleable__label-arrow:before {content: \"▸\";float: left;margin-right: 0.25em;color: #696969;}#sk-container-id-2 label.sk-toggleable__label-arrow:hover:before {color: black;}#sk-container-id-2 div.sk-estimator:hover label.sk-toggleable__label-arrow:before {color: black;}#sk-container-id-2 div.sk-toggleable__content {max-height: 0;max-width: 0;overflow: hidden;text-align: left;background-color: #f0f8ff;}#sk-container-id-2 div.sk-toggleable__content pre {margin: 0.2em;color: black;border-radius: 0.25em;background-color: #f0f8ff;}#sk-container-id-2 input.sk-toggleable__control:checked~div.sk-toggleable__content {max-height: 200px;max-width: 100%;overflow: auto;}#sk-container-id-2 input.sk-toggleable__control:checked~label.sk-toggleable__label-arrow:before {content: \"▾\";}#sk-container-id-2 div.sk-estimator input.sk-toggleable__control:checked~label.sk-toggleable__label {background-color: #d4ebff;}#sk-container-id-2 div.sk-label input.sk-toggleable__control:checked~label.sk-toggleable__label {background-color: #d4ebff;}#sk-container-id-2 input.sk-hidden--visually {border: 0;clip: rect(1px 1px 1px 1px);clip: rect(1px, 1px, 1px, 1px);height: 1px;margin: -1px;overflow: hidden;padding: 0;position: absolute;width: 1px;}#sk-container-id-2 div.sk-estimator {font-family: monospace;background-color: #f0f8ff;border: 1px dotted black;border-radius: 0.25em;box-sizing: border-box;margin-bottom: 0.5em;}#sk-container-id-2 div.sk-estimator:hover {background-color: #d4ebff;}#sk-container-id-2 div.sk-parallel-item::after {content: \"\";width: 100%;border-bottom: 1px solid gray;flex-grow: 1;}#sk-container-id-2 div.sk-label:hover label.sk-toggleable__label {background-color: #d4ebff;}#sk-container-id-2 div.sk-serial::before {content: \"\";position: absolute;border-left: 1px solid gray;box-sizing: border-box;top: 0;bottom: 0;left: 50%;z-index: 0;}#sk-container-id-2 div.sk-serial {display: flex;flex-direction: column;align-items: center;background-color: white;padding-right: 0.2em;padding-left: 0.2em;position: relative;}#sk-container-id-2 div.sk-item {position: relative;z-index: 1;}#sk-container-id-2 div.sk-parallel {display: flex;align-items: stretch;justify-content: center;background-color: white;position: relative;}#sk-container-id-2 div.sk-item::before, #sk-container-id-2 div.sk-parallel-item::before {content: \"\";position: absolute;border-left: 1px solid gray;box-sizing: border-box;top: 0;bottom: 0;left: 50%;z-index: -1;}#sk-container-id-2 div.sk-parallel-item {display: flex;flex-direction: column;z-index: 1;position: relative;background-color: white;}#sk-container-id-2 div.sk-parallel-item:first-child::after {align-self: flex-end;width: 50%;}#sk-container-id-2 div.sk-parallel-item:last-child::after {align-self: flex-start;width: 50%;}#sk-container-id-2 div.sk-parallel-item:only-child::after {width: 0;}#sk-container-id-2 div.sk-dashed-wrapped {border: 1px dashed gray;margin: 0 0.4em 0.5em 0.4em;box-sizing: border-box;padding-bottom: 0.4em;background-color: white;}#sk-container-id-2 div.sk-label label {font-family: monospace;font-weight: bold;display: inline-block;line-height: 1.2em;}#sk-container-id-2 div.sk-label-container {text-align: center;}#sk-container-id-2 div.sk-container {/* jupyter's `normalize.less` sets `[hidden] { display: none; }` but bootstrap.min.css set `[hidden] { display: none !important; }` so we also need the `!important` here to be able to override the default hidden behavior on the sphinx rendered scikit-learn.org. See: https://github.com/scikit-learn/scikit-learn/issues/21755 */display: inline-block !important;position: relative;}#sk-container-id-2 div.sk-text-repr-fallback {display: none;}</style><div id=\"sk-container-id-2\" class=\"sk-top-container\"><div class=\"sk-text-repr-fallback\"><pre>DecisionTreeClassifier(max_depth=4, random_state=7)</pre><b>In a Jupyter environment, please rerun this cell to show the HTML representation or trust the notebook. <br />On GitHub, the HTML representation is unable to render, please try loading this page with nbviewer.org.</b></div><div class=\"sk-container\" hidden><div class=\"sk-item\"><div class=\"sk-estimator sk-toggleable\"><input class=\"sk-toggleable__control sk-hidden--visually\" id=\"sk-estimator-id-2\" type=\"checkbox\" checked><label for=\"sk-estimator-id-2\" class=\"sk-toggleable__label sk-toggleable__label-arrow\">DecisionTreeClassifier</label><div class=\"sk-toggleable__content\"><pre>DecisionTreeClassifier(max_depth=4, random_state=7)</pre></div></div></div></div></div>"
      ],
      "text/plain": [
       "DecisionTreeClassifier(max_depth=4, random_state=7)"
      ]
     },
     "execution_count": 48,
     "metadata": {},
     "output_type": "execute_result"
    }
   ],
   "source": [
    "tree = tree.fit(X_train,y_train)\n",
    "tree"
   ]
  },
  {
   "cell_type": "markdown",
   "id": "1e69d361-99ed-47ea-b779-6e20a86a5a5f",
   "metadata": {
    "tags": []
   },
   "source": [
    "#  finding the accuracy, tp rate, fp rate, tn rate, fn rate, precision, recall, f1-score, and support.\n",
    "\n"
   ]
  },
  {
   "cell_type": "code",
   "execution_count": 49,
   "id": "49fb91e2-0529-463f-951b-ab4293f2b996",
   "metadata": {
    "tags": []
   },
   "outputs": [],
   "source": [
    "def metrics(TN,FP,FN,TP):\n",
    "    all_ = (TP + TN + FP + FN)\n",
    "\n",
    "    accuracy = (TP + TN) / all_\n",
    "\n",
    "    TPR = recall = TP / (TP + FN)\n",
    "    FPR = FP / (FP + TN)\n",
    "\n",
    "    TNR = TN / (FP + TN)\n",
    "    FNR = FN / (FN + TP)\n",
    "\n",
    "    precision =  TP / (TP + FP)\n",
    "    f1 =  2 * ((precision * recall) / ( precision + recall))\n",
    "\n",
    "    support_pos = TP + FN\n",
    "    support_neg = FP + TN\n",
    "\n",
    "    print(f\"Accuracy: {accuracy}\\n\")\n",
    "    print(f\"True Positive Rate/Sensitivity/Recall/Power: {TPR}\")\n",
    "    print(f\"False Positive Rate/False Alarm Ratio/Fall-out: {FPR}\")\n",
    "    print(f\"True Negative Rate/Specificity/Selectivity: {TNR}\")\n",
    "    print(f\"False Negative Rate/Miss Rate: {FNR}\\n\")\n",
    "    print(f\"Precision/PPV: {precision}\")\n",
    "    print(f\"F1 Score: {f1}\\n\")\n",
    "    print(f\"Support (0): {support_pos}\")\n",
    "    print(f\"Support (1): {support_neg}\")"
   ]
  },
  {
   "cell_type": "code",
   "execution_count": 50,
   "id": "3524e19f-246b-471b-aac9-ab38fc5c796a",
   "metadata": {
    "tags": []
   },
   "outputs": [
    {
     "data": {
      "text/plain": [
       "(2512, 385, 408, 638)"
      ]
     },
     "execution_count": 50,
     "metadata": {},
     "output_type": "execute_result"
    }
   ],
   "source": [
    "# using the confustion matrix \n",
    "\n",
    "confuse = confusion_matrix(y_train,tree.predict(X_train))\n",
    "TN, FP, FN, TP = confuse.ravel()\n",
    "TN, FP, FN, TP "
   ]
  },
  {
   "cell_type": "code",
   "execution_count": 51,
   "id": "99dac12b-599c-47f2-ab23-af72234afaad",
   "metadata": {
    "tags": []
   },
   "outputs": [
    {
     "name": "stdout",
     "output_type": "stream",
     "text": [
      "Accuracy: 0.7988840984022318\n",
      "\n",
      "True Positive Rate/Sensitivity/Recall/Power: 0.609942638623327\n",
      "False Positive Rate/False Alarm Ratio/Fall-out: 0.13289609941318606\n",
      "True Negative Rate/Specificity/Selectivity: 0.867103900586814\n",
      "False Negative Rate/Miss Rate: 0.390057361376673\n",
      "\n",
      "Precision/PPV: 0.6236559139784946\n",
      "F1 Score: 0.6167230546157564\n",
      "\n",
      "Support (0): 1046\n",
      "Support (1): 2897\n"
     ]
    }
   ],
   "source": [
    "# running the function with confusion matrix\n",
    "metrics(TN,FP,FN,TP)"
   ]
  },
  {
   "cell_type": "code",
   "execution_count": 52,
   "id": "13be697f-ce2f-46da-8ead-097b758f571d",
   "metadata": {
    "tags": []
   },
   "outputs": [],
   "source": [
    "def get_metrics(model,xtrain,ytrain,xtest,ytest):\n",
    "    \n",
    "    labels = sorted(y_train.unique())\n",
    "\n",
    "    # OUTPUTS AN ARRAY OF PREDICTIONS\n",
    "    preds = model.predict(xtest)\n",
    "    print(\"Accuracy Score:\", model.score(xtest,ytest))\n",
    "    print()\n",
    "    print('Confusion Matrix:')\n",
    "    conf = confusion_matrix(ytest,preds)\n",
    "    conf = pd.DataFrame(conf,\n",
    "            index=[str(label) + '_actual'for label in labels],\n",
    "            columns=[str(label) + '_predict'for label in labels])\n",
    "    print(conf)\n",
    "    print()\n",
    "    print(\"Classification Report:\")\n",
    "    print(classification_report(ytest, preds))"
   ]
  },
  {
   "cell_type": "code",
   "execution_count": 53,
   "id": "63f8cb70-e2ce-4fd5-8ab9-7998dea279d2",
   "metadata": {
    "tags": []
   },
   "outputs": [
    {
     "name": "stdout",
     "output_type": "stream",
     "text": [
      "Accuracy Score: 0.7988840984022318\n",
      "\n",
      "Confusion Matrix:\n",
      "          0_predict  1_predict\n",
      "0_actual       2512        385\n",
      "1_actual        408        638\n",
      "\n",
      "Classification Report:\n",
      "              precision    recall  f1-score   support\n",
      "\n",
      "           0       0.86      0.87      0.86      2897\n",
      "           1       0.62      0.61      0.62      1046\n",
      "\n",
      "    accuracy                           0.80      3943\n",
      "   macro avg       0.74      0.74      0.74      3943\n",
      "weighted avg       0.80      0.80      0.80      3943\n",
      "\n"
     ]
    }
   ],
   "source": [
    "get_metrics(tree, X_train,y_train,X_train,y_train)"
   ]
  },
  {
   "cell_type": "code",
   "execution_count": null,
   "id": "dccb9f10-9795-45ef-bb63-397226b3a80a",
   "metadata": {},
   "outputs": [],
   "source": []
  },
  {
   "cell_type": "code",
   "execution_count": 54,
   "id": "82d6f408-f097-42ba-b0f7-c268ccfd71c6",
   "metadata": {
    "tags": []
   },
   "outputs": [
    {
     "data": {
      "text/html": [
       "<div>\n",
       "<style scoped>\n",
       "    .dataframe tbody tr th:only-of-type {\n",
       "        vertical-align: middle;\n",
       "    }\n",
       "\n",
       "    .dataframe tbody tr th {\n",
       "        vertical-align: top;\n",
       "    }\n",
       "\n",
       "    .dataframe thead th {\n",
       "        text-align: right;\n",
       "    }\n",
       "</style>\n",
       "<table border=\"1\" class=\"dataframe\">\n",
       "  <thead>\n",
       "    <tr style=\"text-align: right;\">\n",
       "      <th></th>\n",
       "      <th>max_depth</th>\n",
       "      <th>train_accuracy</th>\n",
       "      <th>val_accuracy</th>\n",
       "      <th>diff_accuracy</th>\n",
       "    </tr>\n",
       "  </thead>\n",
       "  <tbody>\n",
       "    <tr>\n",
       "      <th>2</th>\n",
       "      <td>3</td>\n",
       "      <td>0.793812</td>\n",
       "      <td>0.787108</td>\n",
       "      <td>0.006704</td>\n",
       "    </tr>\n",
       "    <tr>\n",
       "      <th>1</th>\n",
       "      <td>2</td>\n",
       "      <td>0.793812</td>\n",
       "      <td>0.787108</td>\n",
       "      <td>0.006704</td>\n",
       "    </tr>\n",
       "    <tr>\n",
       "      <th>4</th>\n",
       "      <td>5</td>\n",
       "      <td>0.809536</td>\n",
       "      <td>0.785925</td>\n",
       "      <td>0.023610</td>\n",
       "    </tr>\n",
       "    <tr>\n",
       "      <th>5</th>\n",
       "      <td>6</td>\n",
       "      <td>0.817398</td>\n",
       "      <td>0.781195</td>\n",
       "      <td>0.036203</td>\n",
       "    </tr>\n",
       "    <tr>\n",
       "      <th>6</th>\n",
       "      <td>7</td>\n",
       "      <td>0.825260</td>\n",
       "      <td>0.779420</td>\n",
       "      <td>0.045839</td>\n",
       "    </tr>\n",
       "    <tr>\n",
       "      <th>3</th>\n",
       "      <td>4</td>\n",
       "      <td>0.798884</td>\n",
       "      <td>0.778829</td>\n",
       "      <td>0.020055</td>\n",
       "    </tr>\n",
       "    <tr>\n",
       "      <th>7</th>\n",
       "      <td>8</td>\n",
       "      <td>0.844281</td>\n",
       "      <td>0.762271</td>\n",
       "      <td>0.082010</td>\n",
       "    </tr>\n",
       "    <tr>\n",
       "      <th>8</th>\n",
       "      <td>9</td>\n",
       "      <td>0.861273</td>\n",
       "      <td>0.754583</td>\n",
       "      <td>0.106690</td>\n",
       "    </tr>\n",
       "    <tr>\n",
       "      <th>9</th>\n",
       "      <td>10</td>\n",
       "      <td>0.885620</td>\n",
       "      <td>0.742164</td>\n",
       "      <td>0.143456</td>\n",
       "    </tr>\n",
       "    <tr>\n",
       "      <th>12</th>\n",
       "      <td>13</td>\n",
       "      <td>0.943444</td>\n",
       "      <td>0.734477</td>\n",
       "      <td>0.208967</td>\n",
       "    </tr>\n",
       "    <tr>\n",
       "      <th>0</th>\n",
       "      <td>1</td>\n",
       "      <td>0.734720</td>\n",
       "      <td>0.734477</td>\n",
       "      <td>0.000243</td>\n",
       "    </tr>\n",
       "    <tr>\n",
       "      <th>11</th>\n",
       "      <td>12</td>\n",
       "      <td>0.929749</td>\n",
       "      <td>0.733885</td>\n",
       "      <td>0.195864</td>\n",
       "    </tr>\n",
       "    <tr>\n",
       "      <th>10</th>\n",
       "      <td>11</td>\n",
       "      <td>0.905656</td>\n",
       "      <td>0.729746</td>\n",
       "      <td>0.175910</td>\n",
       "    </tr>\n",
       "    <tr>\n",
       "      <th>13</th>\n",
       "      <td>14</td>\n",
       "      <td>0.957139</td>\n",
       "      <td>0.727972</td>\n",
       "      <td>0.229168</td>\n",
       "    </tr>\n",
       "    <tr>\n",
       "      <th>15</th>\n",
       "      <td>16</td>\n",
       "      <td>0.974892</td>\n",
       "      <td>0.724423</td>\n",
       "      <td>0.250469</td>\n",
       "    </tr>\n",
       "    <tr>\n",
       "      <th>16</th>\n",
       "      <td>17</td>\n",
       "      <td>0.981233</td>\n",
       "      <td>0.721467</td>\n",
       "      <td>0.259766</td>\n",
       "    </tr>\n",
       "    <tr>\n",
       "      <th>14</th>\n",
       "      <td>15</td>\n",
       "      <td>0.966777</td>\n",
       "      <td>0.719692</td>\n",
       "      <td>0.247084</td>\n",
       "    </tr>\n",
       "    <tr>\n",
       "      <th>18</th>\n",
       "      <td>19</td>\n",
       "      <td>0.990870</td>\n",
       "      <td>0.719692</td>\n",
       "      <td>0.271177</td>\n",
       "    </tr>\n",
       "    <tr>\n",
       "      <th>17</th>\n",
       "      <td>18</td>\n",
       "      <td>0.987319</td>\n",
       "      <td>0.716736</td>\n",
       "      <td>0.270584</td>\n",
       "    </tr>\n",
       "  </tbody>\n",
       "</table>\n",
       "</div>"
      ],
      "text/plain": [
       "    max_depth  train_accuracy  val_accuracy  diff_accuracy\n",
       "2           3        0.793812      0.787108       0.006704\n",
       "1           2        0.793812      0.787108       0.006704\n",
       "4           5        0.809536      0.785925       0.023610\n",
       "5           6        0.817398      0.781195       0.036203\n",
       "6           7        0.825260      0.779420       0.045839\n",
       "3           4        0.798884      0.778829       0.020055\n",
       "7           8        0.844281      0.762271       0.082010\n",
       "8           9        0.861273      0.754583       0.106690\n",
       "9          10        0.885620      0.742164       0.143456\n",
       "12         13        0.943444      0.734477       0.208967\n",
       "0           1        0.734720      0.734477       0.000243\n",
       "11         12        0.929749      0.733885       0.195864\n",
       "10         11        0.905656      0.729746       0.175910\n",
       "13         14        0.957139      0.727972       0.229168\n",
       "15         16        0.974892      0.724423       0.250469\n",
       "16         17        0.981233      0.721467       0.259766\n",
       "14         15        0.966777      0.719692       0.247084\n",
       "18         19        0.990870      0.719692       0.271177\n",
       "17         18        0.987319      0.716736       0.270584"
      ]
     },
     "execution_count": 54,
     "metadata": {},
     "output_type": "execute_result"
    }
   ],
   "source": [
    "scores_all = []\n",
    "\n",
    "for x in range(1,20):\n",
    "\n",
    "    tree = DecisionTreeClassifier(max_depth=x, random_state=7)\n",
    "    tree.fit(X_train, y_train)\n",
    "    \n",
    "    # evaluate on train\n",
    "    train_acc = tree.score(X_train, y_train)\n",
    "    \n",
    "    #evaluate on validate\n",
    "    val_acc = tree.score(X_validate, y_validate)\n",
    "\n",
    "    # diff between train & val\n",
    "    diff_acc = train_acc - val_acc\n",
    "    \n",
    "    scores_all.append([x, train_acc, val_acc, diff_acc])\n",
    "\n",
    "    \n",
    "scores_df = pd.DataFrame(scores_all, columns=['max_depth','train_accuracy','val_accuracy', 'diff_accuracy'])\n",
    "scores_df = pd.DataFrame(scores_all, columns=['max_depth','train_accuracy','val_accuracy', \"diff_accuracy\"])\n",
    "scores_df.sort_values(by=['val_accuracy'], ascending=False).head(20)"
   ]
  },
  {
   "cell_type": "markdown",
   "id": "ca5270cc-7a64-441e-872d-3e5af330312a",
   "metadata": {},
   "source": [
    "## With a mx depth of four our loop above is working "
   ]
  },
  {
   "cell_type": "code",
   "execution_count": 55,
   "id": "d9f9c1e8-a808-4c27-bcb3-481e46561860",
   "metadata": {
    "tags": []
   },
   "outputs": [
    {
     "data": {
      "image/png": "[encoded data removed]",
      "text/plain": [
       "<Figure size 1200x600 with 1 Axes>"
      ]
     },
     "metadata": {},
     "output_type": "display_data"
    }
   ],
   "source": [
    "plt.figure(figsize=(12,6))\n",
    "plt.plot(scores_df.max_depth, scores_df.train_accuracy, label='train', marker='o',color = \"orange\")\n",
    "plt.plot(scores_df.max_depth, scores_df.val_accuracy, label='validate', marker='o',color = 'green')\n",
    "plt.xlabel('max depth')\n",
    "plt.ylabel('accuracy')\n",
    "plt.xticks([1,2,3,4,5,6,7,8,9,10,11,12,13,14,15,16,17,18,19,20])\n",
    "plt.title('how does the accuracy change with max depth on train and validate?')\n",
    "plt.legend()\n",
    "plt.show()"
   ]
  },
  {
   "cell_type": "markdown",
   "id": "49ee5f2c-327c-449f-8011-8d06dad894ba",
   "metadata": {},
   "source": [
    "## Model four appear to be the best if we go with Decision tree. it goes down the in accuracy "
   ]
  },
  {
   "cell_type": "markdown",
   "id": "0075ff9b-05c1-492c-8962-e645f0aa7442",
   "metadata": {},
   "source": [
    "## RF Model"
   ]
  },
  {
   "cell_type": "code",
   "execution_count": 56,
   "id": "2b4002a2-d23d-4bea-8eb8-59dc50b0f859",
   "metadata": {
    "tags": []
   },
   "outputs": [
    {
     "name": "stdout",
     "output_type": "stream",
     "text": [
      " Accuracy of Random Forest on train data is 0.789753994420492\n",
      " Accuracy of Random Forest on train data is 0.7835600236546422\n"
     ]
    }
   ],
   "source": [
    "rf = RandomForestClassifier(random_state=7, min_samples_leaf=8, max_depth=3)\n",
    "rf.fit(X_train, y_train)\n",
    "print(f' Accuracy of Random Forest on train data is {rf.score(X_train, y_train)}')\n",
    "print(f' Accuracy of Random Forest on train data is {rf.score(X_validate, y_validate)}')"
   ]
  },
  {
   "cell_type": "code",
   "execution_count": 57,
   "id": "ad889f52-9759-4211-a040-9035915da742",
   "metadata": {
    "tags": []
   },
   "outputs": [],
   "source": [
    "rf = RandomForestClassifier(random_state=7, min_samples_leaf=8, max_depth=4)"
   ]
  },
  {
   "cell_type": "code",
   "execution_count": 58,
   "id": "fbee304e-8f14-414c-88c7-c02d13540945",
   "metadata": {
    "tags": []
   },
   "outputs": [
    {
     "data": {
      "text/html": [
       "<style>#sk-container-id-3 {color: black;}#sk-container-id-3 pre{padding: 0;}#sk-container-id-3 div.sk-toggleable {background-color: white;}#sk-container-id-3 label.sk-toggleable__label {cursor: pointer;display: block;width: 100%;margin-bottom: 0;padding: 0.3em;box-sizing: border-box;text-align: center;}#sk-container-id-3 label.sk-toggleable__label-arrow:before {content: \"▸\";float: left;margin-right: 0.25em;color: #696969;}#sk-container-id-3 label.sk-toggleable__label-arrow:hover:before {color: black;}#sk-container-id-3 div.sk-estimator:hover label.sk-toggleable__label-arrow:before {color: black;}#sk-container-id-3 div.sk-toggleable__content {max-height: 0;max-width: 0;overflow: hidden;text-align: left;background-color: #f0f8ff;}#sk-container-id-3 div.sk-toggleable__content pre {margin: 0.2em;color: black;border-radius: 0.25em;background-color: #f0f8ff;}#sk-container-id-3 input.sk-toggleable__control:checked~div.sk-toggleable__content {max-height: 200px;max-width: 100%;overflow: auto;}#sk-container-id-3 input.sk-toggleable__control:checked~label.sk-toggleable__label-arrow:before {content: \"▾\";}#sk-container-id-3 div.sk-estimator input.sk-toggleable__control:checked~label.sk-toggleable__label {background-color: #d4ebff;}#sk-container-id-3 div.sk-label input.sk-toggleable__control:checked~label.sk-toggleable__label {background-color: #d4ebff;}#sk-container-id-3 input.sk-hidden--visually {border: 0;clip: rect(1px 1px 1px 1px);clip: rect(1px, 1px, 1px, 1px);height: 1px;margin: -1px;overflow: hidden;padding: 0;position: absolute;width: 1px;}#sk-container-id-3 div.sk-estimator {font-family: monospace;background-color: #f0f8ff;border: 1px dotted black;border-radius: 0.25em;box-sizing: border-box;margin-bottom: 0.5em;}#sk-container-id-3 div.sk-estimator:hover {background-color: #d4ebff;}#sk-container-id-3 div.sk-parallel-item::after {content: \"\";width: 100%;border-bottom: 1px solid gray;flex-grow: 1;}#sk-container-id-3 div.sk-label:hover label.sk-toggleable__label {background-color: #d4ebff;}#sk-container-id-3 div.sk-serial::before {content: \"\";position: absolute;border-left: 1px solid gray;box-sizing: border-box;top: 0;bottom: 0;left: 50%;z-index: 0;}#sk-container-id-3 div.sk-serial {display: flex;flex-direction: column;align-items: center;background-color: white;padding-right: 0.2em;padding-left: 0.2em;position: relative;}#sk-container-id-3 div.sk-item {position: relative;z-index: 1;}#sk-container-id-3 div.sk-parallel {display: flex;align-items: stretch;justify-content: center;background-color: white;position: relative;}#sk-container-id-3 div.sk-item::before, #sk-container-id-3 div.sk-parallel-item::before {content: \"\";position: absolute;border-left: 1px solid gray;box-sizing: border-box;top: 0;bottom: 0;left: 50%;z-index: -1;}#sk-container-id-3 div.sk-parallel-item {display: flex;flex-direction: column;z-index: 1;position: relative;background-color: white;}#sk-container-id-3 div.sk-parallel-item:first-child::after {align-self: flex-end;width: 50%;}#sk-container-id-3 div.sk-parallel-item:last-child::after {align-self: flex-start;width: 50%;}#sk-container-id-3 div.sk-parallel-item:only-child::after {width: 0;}#sk-container-id-3 div.sk-dashed-wrapped {border: 1px dashed gray;margin: 0 0.4em 0.5em 0.4em;box-sizing: border-box;padding-bottom: 0.4em;background-color: white;}#sk-container-id-3 div.sk-label label {font-family: monospace;font-weight: bold;display: inline-block;line-height: 1.2em;}#sk-container-id-3 div.sk-label-container {text-align: center;}#sk-container-id-3 div.sk-container {/* jupyter's `normalize.less` sets `[hidden] { display: none; }` but bootstrap.min.css set `[hidden] { display: none !important; }` so we also need the `!important` here to be able to override the default hidden behavior on the sphinx rendered scikit-learn.org. See: https://github.com/scikit-learn/scikit-learn/issues/21755 */display: inline-block !important;position: relative;}#sk-container-id-3 div.sk-text-repr-fallback {display: none;}</style><div id=\"sk-container-id-3\" class=\"sk-top-container\"><div class=\"sk-text-repr-fallback\"><pre>RandomForestClassifier(max_depth=4, min_samples_leaf=8, random_state=7)</pre><b>In a Jupyter environment, please rerun this cell to show the HTML representation or trust the notebook. <br />On GitHub, the HTML representation is unable to render, please try loading this page with nbviewer.org.</b></div><div class=\"sk-container\" hidden><div class=\"sk-item\"><div class=\"sk-estimator sk-toggleable\"><input class=\"sk-toggleable__control sk-hidden--visually\" id=\"sk-estimator-id-3\" type=\"checkbox\" checked><label for=\"sk-estimator-id-3\" class=\"sk-toggleable__label sk-toggleable__label-arrow\">RandomForestClassifier</label><div class=\"sk-toggleable__content\"><pre>RandomForestClassifier(max_depth=4, min_samples_leaf=8, random_state=7)</pre></div></div></div></div></div>"
      ],
      "text/plain": [
       "RandomForestClassifier(max_depth=4, min_samples_leaf=8, random_state=7)"
      ]
     },
     "execution_count": 58,
     "metadata": {},
     "output_type": "execute_result"
    }
   ],
   "source": [
    "rf.fit(X_train, y_train)"
   ]
  },
  {
   "cell_type": "code",
   "execution_count": 59,
   "id": "c5e3b77e-46f3-461e-a47e-d39c1f4abf11",
   "metadata": {
    "tags": []
   },
   "outputs": [
    {
     "name": "stdout",
     "output_type": "stream",
     "text": [
      "Accuracy Score: 0.797616028404768\n",
      "\n",
      "Confusion Matrix:\n",
      "          0_predict  1_predict\n",
      "0_actual       2702        195\n",
      "1_actual        603        443\n",
      "\n",
      "Classification Report:\n",
      "              precision    recall  f1-score   support\n",
      "\n",
      "           0       0.82      0.93      0.87      2897\n",
      "           1       0.69      0.42      0.53      1046\n",
      "\n",
      "    accuracy                           0.80      3943\n",
      "   macro avg       0.76      0.68      0.70      3943\n",
      "weighted avg       0.78      0.80      0.78      3943\n",
      "\n"
     ]
    }
   ],
   "source": [
    "get_metrics(rf, X_train, y_train, X_train, y_train)"
   ]
  },
  {
   "cell_type": "code",
   "execution_count": 60,
   "id": "72a52041-da15-42c5-b4cf-e73ce92b9b45",
   "metadata": {
    "tags": []
   },
   "outputs": [
    {
     "data": {
      "text/plain": [
       "(2702, 195, 603, 443)"
      ]
     },
     "execution_count": 60,
     "metadata": {},
     "output_type": "execute_result"
    }
   ],
   "source": [
    "confu = confusion_matrix(y_train,rf.predict(X_train))\n",
    "TN, FP, FN, TP = confu.ravel()\n",
    "TN, FP, FN, TP"
   ]
  },
  {
   "cell_type": "code",
   "execution_count": 62,
   "id": "90fec1b1-fede-4f61-ba76-579cda464c9d",
   "metadata": {
    "tags": []
   },
   "outputs": [
    {
     "name": "stdout",
     "output_type": "stream",
     "text": [
      "Accuracy: 0.797616028404768\n",
      "\n",
      "True Positive Rate/Sensitivity/Recall/Power: 0.4235181644359465\n",
      "False Positive Rate/False Alarm Ratio/Fall-out: 0.06731101139109423\n",
      "True Negative Rate/Specificity/Selectivity: 0.9326889886089058\n",
      "False Negative Rate/Miss Rate: 0.5764818355640535\n",
      "\n",
      "Precision/PPV: 0.6943573667711599\n",
      "F1 Score: 0.5261282660332541\n",
      "\n",
      "Support (0): 1046\n",
      "Support (1): 2897\n"
     ]
    }
   ],
   "source": [
    "metrics(TN, FP, FN, TP)"
   ]
  },
  {
   "cell_type": "code",
   "execution_count": null,
   "id": "020b48db-e140-4563-8600-fa4c510c49a9",
   "metadata": {
    "tags": []
   },
   "outputs": [],
   "source": [
    " scores_all = []\n",
    "\n",
    "for x in range(1,11):\n",
    "        \n",
    "        # looping through min_samples front to back \n",
    "        # looping through max_depth back to front\n",
    "        rf = RandomForestClassifier(random_state=7, min_samples_leaf=x, max_depth=11-x) # different if x = 10 vs x = 1\n",
    "        #fit it\n",
    "        rf.fit(X_train, y_train)\n",
    "        #transform \n",
    "        train_acc = rf.score(X_train, y_train)\n",
    "        \n",
    "        #evaluate on my validate data\n",
    "        val_acc = rf.score(X_validate, y_validate)\n",
    "        diff_acc = train_acc - val_acc\n",
    "        scores_all.append([x, 11-x, train_acc, val_acc, diff_acc])\n",
    "\n",
    "        \n",
    "        \n",
    "scores_df = pd.DataFrame(scores_all, columns =['min_samples','max_depth','train_accuracy','val_accuracy', 'diff_accuracy'])\n",
    "scores_df.sort_values('diff_accuracy', ascending=True)"
   ]
  },
  {
   "cell_type": "code",
   "execution_count": null,
   "id": "b37351e9-2b48-406a-8c8e-7cf7f60673f7",
   "metadata": {
    "tags": []
   },
   "outputs": [],
   "source": [
    "#creat a function for viz for the random forest model\n",
    "\n",
    "def plot_forest():  \n",
    "    plt.figure(figsize=(12,6))\n",
    "    plt.plot(scores_df.max_depth, scores_df.train_accuracy, label='train', marker='o')\n",
    "    plt.plot(scores_df.max_depth, scores_df.val_accuracy, label='validate', marker='o')\n",
    "    plt.xlabel('max depth and min leaf sample')\n",
    "    plt.ylabel('accuracy')\n",
    "\n",
    "    plt.xticks([1,2,3,4,5,6,7,8,9,10],\n",
    "            [('1 and 10'),('2 and 9'),('3 and 8'),('4 and 7'),('5 and 6'),\n",
    "            ('6 and 5'),('7 and 4'), ('8 and 3'), ('9 and 2'), ('10 and 1') ]\n",
    "            )\n",
    "\n",
    "    plt.title('how does the accuracy change with hyper parameter tuning on train and validate?')\n",
    "    plt.legend()\n",
    "    plt.show()"
   ]
  },
  {
   "cell_type": "code",
   "execution_count": null,
   "id": "a5e05f96-800d-4db3-827c-999b3255c90d",
   "metadata": {
    "tags": []
   },
   "outputs": [],
   "source": [
    "plot_forest()"
   ]
  },
  {
   "cell_type": "markdown",
   "id": "15d829af-a0c7-45ab-83a5-62c6536d12e0",
   "metadata": {},
   "source": [
    "For RF, I would use the max depth of 4 and min_leaf sample of 8 due to the higher percentage in both the train and validate and a minimal difference between them"
   ]
  },
  {
   "cell_type": "markdown",
   "id": "af2fcb2b-75cc-4c38-b611-b0ca15129804",
   "metadata": {},
   "source": [
    "## KNN "
   ]
  },
  {
   "cell_type": "code",
   "execution_count": 63,
   "id": "6b692dcc-49c9-4d6b-8aee-b6c59a5910ab",
   "metadata": {
    "tags": []
   },
   "outputs": [],
   "source": [
    "knn = KNeighborsClassifier(n_neighbors=5, weights='uniform')"
   ]
  },
  {
   "cell_type": "code",
   "execution_count": 64,
   "id": "0c229d8a-096e-476d-a663-835be9ddbba4",
   "metadata": {
    "tags": []
   },
   "outputs": [
    {
     "data": {
      "text/html": [
       "<style>#sk-container-id-4 {color: black;}#sk-container-id-4 pre{padding: 0;}#sk-container-id-4 div.sk-toggleable {background-color: white;}#sk-container-id-4 label.sk-toggleable__label {cursor: pointer;display: block;width: 100%;margin-bottom: 0;padding: 0.3em;box-sizing: border-box;text-align: center;}#sk-container-id-4 label.sk-toggleable__label-arrow:before {content: \"▸\";float: left;margin-right: 0.25em;color: #696969;}#sk-container-id-4 label.sk-toggleable__label-arrow:hover:before {color: black;}#sk-container-id-4 div.sk-estimator:hover label.sk-toggleable__label-arrow:before {color: black;}#sk-container-id-4 div.sk-toggleable__content {max-height: 0;max-width: 0;overflow: hidden;text-align: left;background-color: #f0f8ff;}#sk-container-id-4 div.sk-toggleable__content pre {margin: 0.2em;color: black;border-radius: 0.25em;background-color: #f0f8ff;}#sk-container-id-4 input.sk-toggleable__control:checked~div.sk-toggleable__content {max-height: 200px;max-width: 100%;overflow: auto;}#sk-container-id-4 input.sk-toggleable__control:checked~label.sk-toggleable__label-arrow:before {content: \"▾\";}#sk-container-id-4 div.sk-estimator input.sk-toggleable__control:checked~label.sk-toggleable__label {background-color: #d4ebff;}#sk-container-id-4 div.sk-label input.sk-toggleable__control:checked~label.sk-toggleable__label {background-color: #d4ebff;}#sk-container-id-4 input.sk-hidden--visually {border: 0;clip: rect(1px 1px 1px 1px);clip: rect(1px, 1px, 1px, 1px);height: 1px;margin: -1px;overflow: hidden;padding: 0;position: absolute;width: 1px;}#sk-container-id-4 div.sk-estimator {font-family: monospace;background-color: #f0f8ff;border: 1px dotted black;border-radius: 0.25em;box-sizing: border-box;margin-bottom: 0.5em;}#sk-container-id-4 div.sk-estimator:hover {background-color: #d4ebff;}#sk-container-id-4 div.sk-parallel-item::after {content: \"\";width: 100%;border-bottom: 1px solid gray;flex-grow: 1;}#sk-container-id-4 div.sk-label:hover label.sk-toggleable__label {background-color: #d4ebff;}#sk-container-id-4 div.sk-serial::before {content: \"\";position: absolute;border-left: 1px solid gray;box-sizing: border-box;top: 0;bottom: 0;left: 50%;z-index: 0;}#sk-container-id-4 div.sk-serial {display: flex;flex-direction: column;align-items: center;background-color: white;padding-right: 0.2em;padding-left: 0.2em;position: relative;}#sk-container-id-4 div.sk-item {position: relative;z-index: 1;}#sk-container-id-4 div.sk-parallel {display: flex;align-items: stretch;justify-content: center;background-color: white;position: relative;}#sk-container-id-4 div.sk-item::before, #sk-container-id-4 div.sk-parallel-item::before {content: \"\";position: absolute;border-left: 1px solid gray;box-sizing: border-box;top: 0;bottom: 0;left: 50%;z-index: -1;}#sk-container-id-4 div.sk-parallel-item {display: flex;flex-direction: column;z-index: 1;position: relative;background-color: white;}#sk-container-id-4 div.sk-parallel-item:first-child::after {align-self: flex-end;width: 50%;}#sk-container-id-4 div.sk-parallel-item:last-child::after {align-self: flex-start;width: 50%;}#sk-container-id-4 div.sk-parallel-item:only-child::after {width: 0;}#sk-container-id-4 div.sk-dashed-wrapped {border: 1px dashed gray;margin: 0 0.4em 0.5em 0.4em;box-sizing: border-box;padding-bottom: 0.4em;background-color: white;}#sk-container-id-4 div.sk-label label {font-family: monospace;font-weight: bold;display: inline-block;line-height: 1.2em;}#sk-container-id-4 div.sk-label-container {text-align: center;}#sk-container-id-4 div.sk-container {/* jupyter's `normalize.less` sets `[hidden] { display: none; }` but bootstrap.min.css set `[hidden] { display: none !important; }` so we also need the `!important` here to be able to override the default hidden behavior on the sphinx rendered scikit-learn.org. See: https://github.com/scikit-learn/scikit-learn/issues/21755 */display: inline-block !important;position: relative;}#sk-container-id-4 div.sk-text-repr-fallback {display: none;}</style><div id=\"sk-container-id-4\" class=\"sk-top-container\"><div class=\"sk-text-repr-fallback\"><pre>KNeighborsClassifier()</pre><b>In a Jupyter environment, please rerun this cell to show the HTML representation or trust the notebook. <br />On GitHub, the HTML representation is unable to render, please try loading this page with nbviewer.org.</b></div><div class=\"sk-container\" hidden><div class=\"sk-item\"><div class=\"sk-estimator sk-toggleable\"><input class=\"sk-toggleable__control sk-hidden--visually\" id=\"sk-estimator-id-4\" type=\"checkbox\" checked><label for=\"sk-estimator-id-4\" class=\"sk-toggleable__label sk-toggleable__label-arrow\">KNeighborsClassifier</label><div class=\"sk-toggleable__content\"><pre>KNeighborsClassifier()</pre></div></div></div></div></div>"
      ],
      "text/plain": [
       "KNeighborsClassifier()"
      ]
     },
     "execution_count": 64,
     "metadata": {},
     "output_type": "execute_result"
    }
   ],
   "source": [
    "knn.fit(X_train, y_train)"
   ]
  },
  {
   "cell_type": "code",
   "execution_count": 68,
   "id": "d8dfd4db-1408-4481-97d7-0fc864bca27b",
   "metadata": {
    "tags": []
   },
   "outputs": [
    {
     "data": {
      "text/plain": [
       "array([[2.40000e+01, 2.08000e+01, 4.69650e+02, ..., 1.00000e+00,\n",
       "        0.00000e+00, 0.00000e+00],\n",
       "       [3.20000e+01, 1.97500e+01, 6.24150e+02, ..., 0.00000e+00,\n",
       "        0.00000e+00, 0.00000e+00],\n",
       "       [3.10000e+01, 5.52500e+01, 1.71565e+03, ..., 0.00000e+00,\n",
       "        1.00000e+00, 0.00000e+00],\n",
       "       ...,\n",
       "       [1.00000e+00, 5.52000e+01, 5.52000e+01, ..., 0.00000e+00,\n",
       "        0.00000e+00, 1.00000e+00],\n",
       "       [3.00000e+00, 7.42500e+01, 2.10300e+02, ..., 0.00000e+00,\n",
       "        1.00000e+00, 0.00000e+00],\n",
       "       [1.10000e+01, 5.45500e+01, 6.01250e+02, ..., 0.00000e+00,\n",
       "        1.00000e+00, 0.00000e+00]])"
      ]
     },
     "execution_count": 68,
     "metadata": {},
     "output_type": "execute_result"
    }
   ],
   "source": [
    "X_train.values"
   ]
  },
  {
   "cell_type": "code",
   "execution_count": 69,
   "id": "d239b600-1a1c-4609-8e23-e9274f4b2b0c",
   "metadata": {
    "tags": []
   },
   "outputs": [],
   "source": [
    "y_pred = knn.predict(X_train.values)\n",
    "\n"
   ]
  },
  {
   "cell_type": "code",
   "execution_count": 72,
   "id": "89c7b55b-f9f9-42af-922f-c16c76f23f89",
   "metadata": {
    "tags": []
   },
   "outputs": [],
   "source": [
    "y_pred_proba = knn.predict_proba(X_train.values)"
   ]
  },
  {
   "cell_type": "code",
   "execution_count": 75,
   "id": "253c4eeb-cdae-4e37-a266-bae7ccd610ef",
   "metadata": {
    "tags": []
   },
   "outputs": [
    {
     "data": {
      "text/plain": [
       "0.8255135683489728"
      ]
     },
     "execution_count": 75,
     "metadata": {},
     "output_type": "execute_result"
    }
   ],
   "source": [
    "knn.score(X_train.values, y_train.values)"
   ]
  },
  {
   "cell_type": "code",
   "execution_count": 76,
   "id": "b17a3198-f050-4b74-bef2-d0717808c289",
   "metadata": {
    "tags": []
   },
   "outputs": [],
   "source": [
    "conmatrix = confusion_matrix(y_train, y_pred)"
   ]
  },
  {
   "cell_type": "code",
   "execution_count": 79,
   "id": "9cbe792b-8436-4dc9-909e-d9afb9b50069",
   "metadata": {
    "tags": []
   },
   "outputs": [],
   "source": [
    "conmatrix_disp = ConfusionMatrixDisplay(conmatrix, display_labels=knn.classes_)"
   ]
  },
  {
   "cell_type": "code",
   "execution_count": 80,
   "id": "05568dc0-eef1-42ff-93ec-a78e8a1f2833",
   "metadata": {
    "tags": []
   },
   "outputs": [
    {
     "data": {
      "image/png": "[encoded data removed]",
      "text/plain": [
       "<Figure size 640x480 with 2 Axes>"
      ]
     },
     "metadata": {},
     "output_type": "display_data"
    }
   ],
   "source": [
    "conmatrix_disp.plot()\n",
    "plt.show()"
   ]
  },
  {
   "cell_type": "code",
   "execution_count": 83,
   "id": "602ae862-68ec-48a9-840f-a31f155a745c",
   "metadata": {
    "tags": []
   },
   "outputs": [
    {
     "name": "stdout",
     "output_type": "stream",
     "text": [
      "Accuracy Score: 0.8255135683489728\n",
      "\n",
      "Confusion Matrix:\n",
      "          0_predict  1_predict\n",
      "0_actual       2680        217\n",
      "1_actual        471        575\n",
      "\n",
      "Classification Report:\n",
      "              precision    recall  f1-score   support\n",
      "\n",
      "           0       0.85      0.93      0.89      2897\n",
      "           1       0.73      0.55      0.63      1046\n",
      "\n",
      "    accuracy                           0.83      3943\n",
      "   macro avg       0.79      0.74      0.76      3943\n",
      "weighted avg       0.82      0.83      0.82      3943\n",
      "\n"
     ]
    }
   ],
   "source": [
    "get_metrics(knn, X_train.values, y_train.values, X_train.values, y_train.values)"
   ]
  },
  {
   "cell_type": "code",
   "execution_count": null,
   "id": "4609dec4-e28d-4f13-afa0-f471adae71d5",
   "metadata": {},
   "outputs": [],
   "source": []
  }
 ],
 "metadata": {
  "kernelspec": {
   "display_name": "Python 3 (ipykernel)",
   "language": "python",
   "name": "python3"
  },
  "language_info": {
   "codemirror_mode": {
    "name": "ipython",
    "version": 3
   },
   "file_extension": ".py",
   "mimetype": "text/x-python",
   "name": "python",
   "nbconvert_exporter": "python",
   "pygments_lexer": "ipython3",
   "version": "3.11.4"
  }
 },
 "nbformat": 4,
 "nbformat_minor": 5
}
